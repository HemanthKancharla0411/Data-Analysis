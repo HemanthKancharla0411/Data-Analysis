{
 "cells": [
  {
   "cell_type": "markdown",
   "id": "61bd5276",
   "metadata": {},
   "source": [
    "Extracting Dell Laptops data from amazon.in website and saving it as .csv Name of the laptop,price,no.of reviews\n"
   ]
  },
  {
   "cell_type": "code",
   "execution_count": 183,
   "id": "d29c0bc3",
   "metadata": {},
   "outputs": [
    {
     "name": "stdout",
     "output_type": "stream",
     "text": [
      "Requirement already satisfied: selenium in c:\\users\\user\\anaconda3\\lib\\site-packages (4.17.2)\n",
      "Requirement already satisfied: urllib3[socks]<3,>=1.26 in c:\\users\\user\\anaconda3\\lib\\site-packages (from selenium) (1.26.16)\n",
      "Requirement already satisfied: trio~=0.17 in c:\\users\\user\\anaconda3\\lib\\site-packages (from selenium) (0.24.0)\n",
      "Requirement already satisfied: trio-websocket~=0.9 in c:\\users\\user\\anaconda3\\lib\\site-packages (from selenium) (0.11.1)\n",
      "Requirement already satisfied: certifi>=2021.10.8 in c:\\users\\user\\anaconda3\\lib\\site-packages (from selenium) (2023.7.22)\n",
      "Requirement already satisfied: typing_extensions>=4.9.0 in c:\\users\\user\\anaconda3\\lib\\site-packages (from selenium) (4.9.0)\n",
      "Requirement already satisfied: attrs>=20.1.0 in c:\\users\\user\\anaconda3\\lib\\site-packages (from trio~=0.17->selenium) (22.1.0)\n",
      "Requirement already satisfied: sortedcontainers in c:\\users\\user\\anaconda3\\lib\\site-packages (from trio~=0.17->selenium) (2.4.0)\n",
      "Requirement already satisfied: idna in c:\\users\\user\\anaconda3\\lib\\site-packages (from trio~=0.17->selenium) (3.4)\n",
      "Requirement already satisfied: outcome in c:\\users\\user\\anaconda3\\lib\\site-packages (from trio~=0.17->selenium) (1.3.0.post0)\n",
      "Requirement already satisfied: sniffio>=1.3.0 in c:\\users\\user\\anaconda3\\lib\\site-packages (from trio~=0.17->selenium) (1.3.0)\n",
      "Requirement already satisfied: cffi>=1.14 in c:\\users\\user\\anaconda3\\lib\\site-packages (from trio~=0.17->selenium) (1.15.1)\n",
      "Requirement already satisfied: wsproto>=0.14 in c:\\users\\user\\anaconda3\\lib\\site-packages (from trio-websocket~=0.9->selenium) (1.2.0)\n",
      "Requirement already satisfied: PySocks!=1.5.7,<2.0,>=1.5.6 in c:\\users\\user\\anaconda3\\lib\\site-packages (from urllib3[socks]<3,>=1.26->selenium) (1.7.1)\n",
      "Requirement already satisfied: pycparser in c:\\users\\user\\anaconda3\\lib\\site-packages (from cffi>=1.14->trio~=0.17->selenium) (2.21)\n",
      "Requirement already satisfied: h11<1,>=0.9.0 in c:\\users\\user\\anaconda3\\lib\\site-packages (from wsproto>=0.14->trio-websocket~=0.9->selenium) (0.14.0)\n",
      "Note: you may need to restart the kernel to use updated packages.\n"
     ]
    }
   ],
   "source": [
    "pip install selenium\n"
   ]
  },
  {
   "cell_type": "code",
   "execution_count": 184,
   "id": "7ae4aa45",
   "metadata": {},
   "outputs": [
    {
     "name": "stdout",
     "output_type": "stream",
     "text": [
      "Requirement already satisfied: webdriver_manager in c:\\users\\user\\anaconda3\\lib\\site-packages (4.0.1)\n",
      "Requirement already satisfied: requests in c:\\users\\user\\anaconda3\\lib\\site-packages (from webdriver_manager) (2.31.0)\n",
      "Requirement already satisfied: python-dotenv in c:\\users\\user\\anaconda3\\lib\\site-packages (from webdriver_manager) (0.21.0)\n",
      "Requirement already satisfied: packaging in c:\\users\\user\\anaconda3\\lib\\site-packages (from webdriver_manager) (23.1)\n",
      "Requirement already satisfied: charset-normalizer<4,>=2 in c:\\users\\user\\anaconda3\\lib\\site-packages (from requests->webdriver_manager) (2.0.4)\n",
      "Requirement already satisfied: idna<4,>=2.5 in c:\\users\\user\\anaconda3\\lib\\site-packages (from requests->webdriver_manager) (3.4)\n",
      "Requirement already satisfied: urllib3<3,>=1.21.1 in c:\\users\\user\\anaconda3\\lib\\site-packages (from requests->webdriver_manager) (1.26.16)\n",
      "Requirement already satisfied: certifi>=2017.4.17 in c:\\users\\user\\anaconda3\\lib\\site-packages (from requests->webdriver_manager) (2023.7.22)\n",
      "Note: you may need to restart the kernel to use updated packages.\n"
     ]
    }
   ],
   "source": [
    "pip install webdriver_manager\n"
   ]
  },
  {
   "cell_type": "code",
   "execution_count": 186,
   "id": "6e07f6e3",
   "metadata": {},
   "outputs": [],
   "source": [
    "import selenium\n",
    "import webdriver_manager\n",
    "import pandas as pd\n"
   ]
  },
  {
   "cell_type": "code",
   "execution_count": 187,
   "id": "35f7b02b",
   "metadata": {},
   "outputs": [],
   "source": [
    "from selenium import webdriver\n",
    "from time import sleep\n",
    "from webdriver_manager.chrome import ChromeDriverManager\n",
    "from selenium.webdriver.common.by import By\n",
    "from selenium.webdriver.common.keys import Keys\n"
   ]
  },
  {
   "cell_type": "code",
   "execution_count": 188,
   "id": "5bfb7921",
   "metadata": {},
   "outputs": [
    {
     "name": "stdout",
     "output_type": "stream",
     "text": [
      "chrome\n"
     ]
    }
   ],
   "source": [
    "options=webdriver.ChromeOptions()\n",
    "options.add_argument('--some-options')\n",
    "driver =webdriver.Chrome(options=options)\n",
    "browser_name = options.to_capabilities()[\"browserName\"]\n",
    "print(browser_name)\n",
    "\n"
   ]
  },
  {
   "cell_type": "code",
   "execution_count": 189,
   "id": "fb8759bb",
   "metadata": {},
   "outputs": [],
   "source": [
    "driver.get('https://www.amazon.in/')\n"
   ]
  },
  {
   "cell_type": "code",
   "execution_count": 190,
   "id": "4118691f",
   "metadata": {},
   "outputs": [],
   "source": [
    "search=driver.find_element(By.ID,\"twotabsearchtextbox\")\n",
    "\n"
   ]
  },
  {
   "cell_type": "code",
   "execution_count": 191,
   "id": "af217de0",
   "metadata": {},
   "outputs": [],
   "source": [
    "search.send_keys(\"Acer laptops\")"
   ]
  },
  {
   "cell_type": "code",
   "execution_count": 192,
   "id": "50f2a0a5",
   "metadata": {},
   "outputs": [],
   "source": [
    "search=driver.find_element(By.ID,\"nav-search-submit-button\").click()"
   ]
  },
  {
   "cell_type": "code",
   "execution_count": 193,
   "id": "65fc5503",
   "metadata": {},
   "outputs": [],
   "source": [
    "driver.find_element(By.XPATH,\"//span[text()='Acer']\").click()\n",
    "\n"
   ]
  },
  {
   "cell_type": "code",
   "execution_count": 38,
   "id": "229e7e27",
   "metadata": {},
   "outputs": [],
   "source": []
  },
  {
   "cell_type": "code",
   "execution_count": 194,
   "id": "762f9a1a",
   "metadata": {
    "scrolled": true
   },
   "outputs": [
    {
     "name": "stdout",
     "output_type": "stream",
     "text": [
      "['Acer Aspire Lite 11th Gen Intel Core i3 Premium Metal Laptop (8GB RAM/512GB SSD/Windows 11 Home) AL15-51, 39.62cm (15.6\") Full HD Display, Metal Body, Steel Gray, 1.59 Kg', 'Acer One 14 Business Laptop AMD Ryzen 3 3250U Processor (Windows 11 Home/8GB RAM/1 TB HDD/AMD Radeon Graphics/MS Office) Z2-493 with 35.56 cm (14.0\") HD Display', 'Acer Aspire Lite AMD Ryzen 5 5500U Premium Thin and Light Laptop (16 GB RAM/512 GB SSD/Windows 11 Home) AL15-41, 39.62 cm (15.6\") Full HD Display, Metal Body, Steel Gray, 1.59 KG', 'Acer Aspire Lite 12th Gen Intel Core i5-1235U Thin and Light Laptop (Windows 11 Home/16GB RAM/512GB SSD/Intel Iris Xe Graphics) AL15-52, 39.62cm (15.6\") Full HD Display, Metal Body, Steel Gray, 1.6 KG', 'Acer Aspire Lite 12th Gen Intel Core i3-1215U Premium Metal Laptop (Windows 11 Home/8 GB RAM/512GB SSD) AL15-52, 39.62cm (15.6\") Full HD Display, Metal Body, Steel Gray, 1.59 Kg', 'Acer Travelmate Business Laptop AMD Ryzen 5 5500U Processor (16GB DDR4/ 512GB SSD/AMD Radeon Graphics/Windows 11 Home) TMP214-41-G3 with 35.6 cm (14 Inches) HD Display', 'Acer Aspire 5 Gaming Laptop Intel Core i5 12th gen (16 GB/512 GB SSD/Win11 Home/4GB Graphics/RTX 2050) A515-57G (15.6\" FHD Display, 1.8 Kg)', 'Acer Nitro V Gaming Laptop 13th Gen Intel Core i5-13420H with RTX 4050 Graphics 6GB VRAM, 144Hz Display (16GB DDR5/512GB SSD/Windows 11 Home/Wi-Fi 6),15.6\"(39.6cms) FHD ANV15-51', 'Acer Aspire 3 Thin and Light Laptop Intel Core i5 12th Generation (Windows 11 Home/8 GB/512 GB SSD) A315-59 with 15.6-inch (39.6 cms) Full HD Display, 1.7 KG, Pure Silver', 'Acer Aspire 5 Gaming Laptop Intel Core i5 13th Gen (16 GB/512 GB SSD/Windows 11 Home/4 GB Graphics/NVIDIA GeForce RTX 2050) A514-56GM,14\" WUXGA Display, 1.56 KG', 'Acer Nitro 5 Gaming Laptop AMD Ryzen™ 7 7735HS Octa-Core Processor- (16GB/ 512 GB SSD/NVIDIA GeForce RTX 3050 4GB Graphics/Windows 11 Home) AN515-47 with 39.6 Cm (15.6 Inch) IPS Display', 'Acer Travelmate Business Laptop Intel Core i7-11th Gen (Windows 11 Home/16 GB Ram/1TB SSD/Intel Iris Xe Graphics/14.0 IPS Display/Backlit Keyboard/Fingerprint Sensor) TMP214-53', 'Acer Extensa 15 Laptop Intel Core i3 N305 8 core Processor (8 GB/256 GB SSD/Win11 Home/MS Office Home and Student/Intel UHD Graphics/1.7 KG/Silver) EX215-33 FHD Display', 'Acer Extensa 15 Intel Core i3 N305 8 core Processor (8 GB/512 GB SSD/Win11 Home/MS Office Home and Student/Intel UHD Graphics/1.7 KG/Silver) EX215-33 FHD Display Laptop', 'Acer Predator Helios Neo 16 Gaming Laptop 13th Gen Intel Core i7 Processor (16 GB/1 TB SSD/Windows 11 Home/NVIDIA ® GeForce RTX \\x84¢ 4050) PHN16-71, (16\") WUXGA Display', 'Acer Aspire 3 Laptop AMD Ryzen 5 7520U Quad-Core Processor (Windows 11 Home/ 8 GB RAM/ 512 GB SSD/AMD Radeon Graphics) A315-24P, 39.6 cm (15.6\") Full HD Display, 1.78 KG, Pure Silver', 'Acer Aspire 7 AMD Ryzen 5 Hexa Core 5500U 15.6 inches Gaming Laptop (8GB/512GB SSD/Windows 11 Home/4GB Graphics/NVIDIA GeForce GTX 1650) A715-42G, Black, 2.15Kg', 'Acer Aspire 3 Spin 14 Intel Core i3 N305 Laptop (Windows 11 Home/8 GB/512 GB/AES Pen Solution/MSO) A3SP14-31PT, Multi-Touch WUXGA Display, 1.54 KG, Obsidian Black', 'Acer Nitro 5 12th Gen Intel Core Intel Core i5-12500H Processor 15.6-inch (39.62 cms) FHD 144 Hz Gaming Laptop (16 GB RAM/RTX 3050 Graphics/512 GB SSD/Windows 11 Home/2.5 Kgs/RGB Backlit), AN515-58', 'Acer Aspire 7 11th Intel Core i5-10300H Processor 15.6 inches Full HD IPS Gaming Laptop (8 GB/512 GB SSD/Windows 11 Home/4 GB Graphics/NVIDIA GeForce GTX 1650) A715-75G, Black, 2.15 kg', 'Acer Aspire 3 14 Intel Core i3 N305 8-core Processor (8 GB/ 512 GB SSD/Windows 11 Home/MS Office) Pure Silver, A314-36M, 35.56 cm (14\") Full HD Display Laptop', 'Acer Travelmate Business Laptop Intel Core i5-1135G7 Processor (16GB DDR4/ 512GB SSD/Intel Iris Xe Graphics/Windows 11 Home/MS Office) TMP214-53 with 35.56 cm (14.0\") Full HD Display', 'Acer Nitro V Gaming Laptop 13th Gen Intel Core i5-13420H with RTX 3050 Graphics 6 GB VRAM, 144Hz Display (8 GB DDR5/512GB SSD/Windows 11 Home/Wi-Fi 6),15.6\"(39.6cms) FHD ANV15-51', 'Acer Swift X Intel Core i7-11390H Processor 16.1\" (40.89cms) Premium Powerful Laptop- (16 GB/1TB SSD/Win 11 Home/NVIDIA GeForce RTX 3050 Ti 4GB Graphics/Steel Grey, 1.9 KG, MSO), SFX16-51G']\n"
     ]
    }
   ],
   "source": [
    "names = driver.find_elements(By.XPATH,\".//span[@class='a-size-medium a-color-base a-text-normal']\")\n",
    "for i in names:\n",
    "    lnames=[i.text for i in names]\n",
    "print(lnames)"
   ]
  },
  {
   "cell_type": "code",
   "execution_count": 195,
   "id": "64b927aa",
   "metadata": {},
   "outputs": [
    {
     "name": "stdout",
     "output_type": "stream",
     "text": [
      "24\n"
     ]
    }
   ],
   "source": [
    "print(len(names))"
   ]
  },
  {
   "cell_type": "code",
   "execution_count": 198,
   "id": "bc759d25",
   "metadata": {},
   "outputs": [
    {
     "name": "stdout",
     "output_type": "stream",
     "text": [
      "['31,990', '24,990', '36,990', '44,990', '32,990', '34,990', '54,990', '78,900', '40,990', '57,990', '69,999', '49,990', '31,499', '33,490', '1,14,990', '34,950', '49,790', '41,990', '67,990', '47,990', '32,750', '42,990', '70,990', '89,507']\n"
     ]
    }
   ],
   "source": [
    "price = driver.find_elements(By.XPATH,\".//span[@class='a-price-whole']\")\n",
    "for i in price:\n",
    "    lprice=[i.text for i in price]\n",
    "print(lprice)"
   ]
  },
  {
   "cell_type": "code",
   "execution_count": 199,
   "id": "9e1701a5",
   "metadata": {},
   "outputs": [
    {
     "name": "stdout",
     "output_type": "stream",
     "text": [
      "24\n"
     ]
    }
   ],
   "source": [
    "print(len(price))"
   ]
  },
  {
   "cell_type": "code",
   "execution_count": 200,
   "id": "fda2db65",
   "metadata": {},
   "outputs": [
    {
     "name": "stdout",
     "output_type": "stream",
     "text": [
      "['709', '126', '302', '19', '62', '6', '1,066', '305', '5', '45', '98', '1', '55', '91', '213', '8', '110', '2', '324', '2', '226', '15', '4', '1']\n"
     ]
    }
   ],
   "source": [
    "review = driver.find_elements(By.XPATH,\".//span[@class='a-size-base s-underline-text']\")\n",
    "for i in review:\n",
    "    lreview=[i.text for i in review]\n",
    "print(lreview)"
   ]
  },
  {
   "cell_type": "code",
   "execution_count": 201,
   "id": "073efb3b",
   "metadata": {},
   "outputs": [
    {
     "name": "stdout",
     "output_type": "stream",
     "text": [
      "24\n"
     ]
    }
   ],
   "source": [
    "print(len(review))"
   ]
  },
  {
   "cell_type": "code",
   "execution_count": 211,
   "id": "b95cfecc",
   "metadata": {},
   "outputs": [],
   "source": [
    "df=pd.DataFrame(columns=['lnames','lprice','lreview'])\n"
   ]
  },
  {
   "cell_type": "code",
   "execution_count": 212,
   "id": "6f691319",
   "metadata": {},
   "outputs": [
    {
     "name": "stdout",
     "output_type": "stream",
     "text": [
      "Empty DataFrame\n",
      "Columns: [lnames, lprice, lreview]\n",
      "Index: []\n"
     ]
    }
   ],
   "source": [
    "print(df)"
   ]
  },
  {
   "cell_type": "code",
   "execution_count": 213,
   "id": "c68bf415",
   "metadata": {},
   "outputs": [],
   "source": [
    "df['lnames']=lnames\n",
    "df['lprice']=lprice\n",
    "df['lreview']=lreview"
   ]
  },
  {
   "cell_type": "code",
   "execution_count": 214,
   "id": "fa38bddb",
   "metadata": {},
   "outputs": [
    {
     "name": "stdout",
     "output_type": "stream",
     "text": [
      "                                               lnames    lprice lreview\n",
      "0   Acer Aspire Lite 11th Gen Intel Core i3 Premiu...    31,990     709\n",
      "1   Acer One 14 Business Laptop AMD Ryzen 3 3250U ...    24,990     126\n",
      "2   Acer Aspire Lite AMD Ryzen 5 5500U Premium Thi...    36,990     302\n",
      "3   Acer Aspire Lite 12th Gen Intel Core i5-1235U ...    44,990      19\n",
      "4   Acer Aspire Lite 12th Gen Intel Core i3-1215U ...    32,990      62\n",
      "5   Acer Travelmate Business Laptop AMD Ryzen 5 55...    34,990       6\n",
      "6   Acer Aspire 5 Gaming Laptop Intel Core i5 12th...    54,990   1,066\n",
      "7   Acer Nitro V Gaming Laptop 13th Gen Intel Core...    78,900     305\n",
      "8   Acer Aspire 3 Thin and Light Laptop Intel Core...    40,990       5\n",
      "9   Acer Aspire 5 Gaming Laptop Intel Core i5 13th...    57,990      45\n",
      "10  Acer Nitro 5 Gaming Laptop AMD Ryzen™ 7 7735HS...    69,999      98\n",
      "11  Acer Travelmate Business Laptop Intel Core i7-...    49,990       1\n",
      "12  Acer Extensa 15 Laptop Intel Core i3 N305 8 co...    31,499      55\n",
      "13  Acer Extensa 15 Intel Core i3 N305 8 core Proc...    33,490      91\n",
      "14  Acer Predator Helios Neo 16 Gaming Laptop 13th...  1,14,990     213\n",
      "15  Acer Aspire 3 Laptop AMD Ryzen 5 7520U Quad-Co...    34,950       8\n",
      "16  Acer Aspire 7 AMD Ryzen 5 Hexa Core 5500U 15.6...    49,790     110\n",
      "17  Acer Aspire 3 Spin 14 Intel Core i3 N305 Lapto...    41,990       2\n",
      "18  Acer Nitro 5 12th Gen Intel Core Intel Core i5...    67,990     324\n",
      "19  Acer Aspire 7 11th Intel Core i5-10300H Proces...    47,990       2\n",
      "20  Acer Aspire 3 14 Intel Core i3 N305 8-core Pro...    32,750     226\n",
      "21  Acer Travelmate Business Laptop Intel Core i5-...    42,990      15\n",
      "22  Acer Nitro V Gaming Laptop 13th Gen Intel Core...    70,990       4\n",
      "23  Acer Swift X Intel Core i7-11390H Processor 16...    89,507       1\n"
     ]
    }
   ],
   "source": [
    "print(df)"
   ]
  },
  {
   "cell_type": "code",
   "execution_count": 216,
   "id": "78d9ab06",
   "metadata": {},
   "outputs": [
    {
     "data": {
      "text/html": [
       "<div>\n",
       "<style scoped>\n",
       "    .dataframe tbody tr th:only-of-type {\n",
       "        vertical-align: middle;\n",
       "    }\n",
       "\n",
       "    .dataframe tbody tr th {\n",
       "        vertical-align: top;\n",
       "    }\n",
       "\n",
       "    .dataframe thead th {\n",
       "        text-align: right;\n",
       "    }\n",
       "</style>\n",
       "<table border=\"1\" class=\"dataframe\">\n",
       "  <thead>\n",
       "    <tr style=\"text-align: right;\">\n",
       "      <th></th>\n",
       "      <th>lnames</th>\n",
       "      <th>lprice</th>\n",
       "      <th>lreview</th>\n",
       "    </tr>\n",
       "  </thead>\n",
       "  <tbody>\n",
       "    <tr>\n",
       "      <th>0</th>\n",
       "      <td>Acer Aspire Lite 11th Gen Intel Core i3 Premiu...</td>\n",
       "      <td>31,990</td>\n",
       "      <td>709</td>\n",
       "    </tr>\n",
       "    <tr>\n",
       "      <th>1</th>\n",
       "      <td>Acer One 14 Business Laptop AMD Ryzen 3 3250U ...</td>\n",
       "      <td>24,990</td>\n",
       "      <td>126</td>\n",
       "    </tr>\n",
       "    <tr>\n",
       "      <th>2</th>\n",
       "      <td>Acer Aspire Lite AMD Ryzen 5 5500U Premium Thi...</td>\n",
       "      <td>36,990</td>\n",
       "      <td>302</td>\n",
       "    </tr>\n",
       "    <tr>\n",
       "      <th>3</th>\n",
       "      <td>Acer Aspire Lite 12th Gen Intel Core i5-1235U ...</td>\n",
       "      <td>44,990</td>\n",
       "      <td>19</td>\n",
       "    </tr>\n",
       "    <tr>\n",
       "      <th>4</th>\n",
       "      <td>Acer Aspire Lite 12th Gen Intel Core i3-1215U ...</td>\n",
       "      <td>32,990</td>\n",
       "      <td>62</td>\n",
       "    </tr>\n",
       "    <tr>\n",
       "      <th>5</th>\n",
       "      <td>Acer Travelmate Business Laptop AMD Ryzen 5 55...</td>\n",
       "      <td>34,990</td>\n",
       "      <td>6</td>\n",
       "    </tr>\n",
       "    <tr>\n",
       "      <th>6</th>\n",
       "      <td>Acer Aspire 5 Gaming Laptop Intel Core i5 12th...</td>\n",
       "      <td>54,990</td>\n",
       "      <td>1,066</td>\n",
       "    </tr>\n",
       "    <tr>\n",
       "      <th>7</th>\n",
       "      <td>Acer Nitro V Gaming Laptop 13th Gen Intel Core...</td>\n",
       "      <td>78,900</td>\n",
       "      <td>305</td>\n",
       "    </tr>\n",
       "    <tr>\n",
       "      <th>8</th>\n",
       "      <td>Acer Aspire 3 Thin and Light Laptop Intel Core...</td>\n",
       "      <td>40,990</td>\n",
       "      <td>5</td>\n",
       "    </tr>\n",
       "    <tr>\n",
       "      <th>9</th>\n",
       "      <td>Acer Aspire 5 Gaming Laptop Intel Core i5 13th...</td>\n",
       "      <td>57,990</td>\n",
       "      <td>45</td>\n",
       "    </tr>\n",
       "    <tr>\n",
       "      <th>10</th>\n",
       "      <td>Acer Nitro 5 Gaming Laptop AMD Ryzen™ 7 7735HS...</td>\n",
       "      <td>69,999</td>\n",
       "      <td>98</td>\n",
       "    </tr>\n",
       "    <tr>\n",
       "      <th>11</th>\n",
       "      <td>Acer Travelmate Business Laptop Intel Core i7-...</td>\n",
       "      <td>49,990</td>\n",
       "      <td>1</td>\n",
       "    </tr>\n",
       "    <tr>\n",
       "      <th>12</th>\n",
       "      <td>Acer Extensa 15 Laptop Intel Core i3 N305 8 co...</td>\n",
       "      <td>31,499</td>\n",
       "      <td>55</td>\n",
       "    </tr>\n",
       "    <tr>\n",
       "      <th>13</th>\n",
       "      <td>Acer Extensa 15 Intel Core i3 N305 8 core Proc...</td>\n",
       "      <td>33,490</td>\n",
       "      <td>91</td>\n",
       "    </tr>\n",
       "    <tr>\n",
       "      <th>14</th>\n",
       "      <td>Acer Predator Helios Neo 16 Gaming Laptop 13th...</td>\n",
       "      <td>1,14,990</td>\n",
       "      <td>213</td>\n",
       "    </tr>\n",
       "    <tr>\n",
       "      <th>15</th>\n",
       "      <td>Acer Aspire 3 Laptop AMD Ryzen 5 7520U Quad-Co...</td>\n",
       "      <td>34,950</td>\n",
       "      <td>8</td>\n",
       "    </tr>\n",
       "    <tr>\n",
       "      <th>16</th>\n",
       "      <td>Acer Aspire 7 AMD Ryzen 5 Hexa Core 5500U 15.6...</td>\n",
       "      <td>49,790</td>\n",
       "      <td>110</td>\n",
       "    </tr>\n",
       "    <tr>\n",
       "      <th>17</th>\n",
       "      <td>Acer Aspire 3 Spin 14 Intel Core i3 N305 Lapto...</td>\n",
       "      <td>41,990</td>\n",
       "      <td>2</td>\n",
       "    </tr>\n",
       "    <tr>\n",
       "      <th>18</th>\n",
       "      <td>Acer Nitro 5 12th Gen Intel Core Intel Core i5...</td>\n",
       "      <td>67,990</td>\n",
       "      <td>324</td>\n",
       "    </tr>\n",
       "    <tr>\n",
       "      <th>19</th>\n",
       "      <td>Acer Aspire 7 11th Intel Core i5-10300H Proces...</td>\n",
       "      <td>47,990</td>\n",
       "      <td>2</td>\n",
       "    </tr>\n",
       "    <tr>\n",
       "      <th>20</th>\n",
       "      <td>Acer Aspire 3 14 Intel Core i3 N305 8-core Pro...</td>\n",
       "      <td>32,750</td>\n",
       "      <td>226</td>\n",
       "    </tr>\n",
       "    <tr>\n",
       "      <th>21</th>\n",
       "      <td>Acer Travelmate Business Laptop Intel Core i5-...</td>\n",
       "      <td>42,990</td>\n",
       "      <td>15</td>\n",
       "    </tr>\n",
       "    <tr>\n",
       "      <th>22</th>\n",
       "      <td>Acer Nitro V Gaming Laptop 13th Gen Intel Core...</td>\n",
       "      <td>70,990</td>\n",
       "      <td>4</td>\n",
       "    </tr>\n",
       "    <tr>\n",
       "      <th>23</th>\n",
       "      <td>Acer Swift X Intel Core i7-11390H Processor 16...</td>\n",
       "      <td>89,507</td>\n",
       "      <td>1</td>\n",
       "    </tr>\n",
       "  </tbody>\n",
       "</table>\n",
       "</div>"
      ],
      "text/plain": [
       "                                               lnames    lprice lreview\n",
       "0   Acer Aspire Lite 11th Gen Intel Core i3 Premiu...    31,990     709\n",
       "1   Acer One 14 Business Laptop AMD Ryzen 3 3250U ...    24,990     126\n",
       "2   Acer Aspire Lite AMD Ryzen 5 5500U Premium Thi...    36,990     302\n",
       "3   Acer Aspire Lite 12th Gen Intel Core i5-1235U ...    44,990      19\n",
       "4   Acer Aspire Lite 12th Gen Intel Core i3-1215U ...    32,990      62\n",
       "5   Acer Travelmate Business Laptop AMD Ryzen 5 55...    34,990       6\n",
       "6   Acer Aspire 5 Gaming Laptop Intel Core i5 12th...    54,990   1,066\n",
       "7   Acer Nitro V Gaming Laptop 13th Gen Intel Core...    78,900     305\n",
       "8   Acer Aspire 3 Thin and Light Laptop Intel Core...    40,990       5\n",
       "9   Acer Aspire 5 Gaming Laptop Intel Core i5 13th...    57,990      45\n",
       "10  Acer Nitro 5 Gaming Laptop AMD Ryzen™ 7 7735HS...    69,999      98\n",
       "11  Acer Travelmate Business Laptop Intel Core i7-...    49,990       1\n",
       "12  Acer Extensa 15 Laptop Intel Core i3 N305 8 co...    31,499      55\n",
       "13  Acer Extensa 15 Intel Core i3 N305 8 core Proc...    33,490      91\n",
       "14  Acer Predator Helios Neo 16 Gaming Laptop 13th...  1,14,990     213\n",
       "15  Acer Aspire 3 Laptop AMD Ryzen 5 7520U Quad-Co...    34,950       8\n",
       "16  Acer Aspire 7 AMD Ryzen 5 Hexa Core 5500U 15.6...    49,790     110\n",
       "17  Acer Aspire 3 Spin 14 Intel Core i3 N305 Lapto...    41,990       2\n",
       "18  Acer Nitro 5 12th Gen Intel Core Intel Core i5...    67,990     324\n",
       "19  Acer Aspire 7 11th Intel Core i5-10300H Proces...    47,990       2\n",
       "20  Acer Aspire 3 14 Intel Core i3 N305 8-core Pro...    32,750     226\n",
       "21  Acer Travelmate Business Laptop Intel Core i5-...    42,990      15\n",
       "22  Acer Nitro V Gaming Laptop 13th Gen Intel Core...    70,990       4\n",
       "23  Acer Swift X Intel Core i7-11390H Processor 16...    89,507       1"
      ]
     },
     "execution_count": 216,
     "metadata": {},
     "output_type": "execute_result"
    }
   ],
   "source": [
    "df"
   ]
  },
  {
   "cell_type": "code",
   "execution_count": 217,
   "id": "78793417",
   "metadata": {},
   "outputs": [],
   "source": [
    "df.to_csv(\"Acer_data.csv\")"
   ]
  }
 ],
 "metadata": {
  "kernelspec": {
   "display_name": "Python 3 (ipykernel)",
   "language": "python",
   "name": "python3"
  },
  "language_info": {
   "codemirror_mode": {
    "name": "ipython",
    "version": 3
   },
   "file_extension": ".py",
   "mimetype": "text/x-python",
   "name": "python",
   "nbconvert_exporter": "python",
   "pygments_lexer": "ipython3",
   "version": "3.11.5"
  }
 },
 "nbformat": 4,
 "nbformat_minor": 5
}
