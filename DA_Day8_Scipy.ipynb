{
  "nbformat": 4,
  "nbformat_minor": 0,
  "metadata": {
    "colab": {
      "provenance": [],
      "authorship_tag": "ABX9TyO681Dap3gW39VtXNWCLPqv",
      "include_colab_link": true
    },
    "kernelspec": {
      "name": "python3",
      "display_name": "Python 3"
    },
    "language_info": {
      "name": "python"
    }
  },
  "cells": [
    {
      "cell_type": "markdown",
      "metadata": {
        "id": "view-in-github",
        "colab_type": "text"
      },
      "source": [
        "<a href=\"https://colab.research.google.com/github/HemanthKancharla0411/Data-Analysis/blob/main/DA_Day8_Scipy.ipynb\" target=\"_parent\"><img src=\"https://colab.research.google.com/assets/colab-badge.svg\" alt=\"Open In Colab\"/></a>"
      ]
    },
    {
      "cell_type": "code",
      "execution_count": null,
      "metadata": {
        "colab": {
          "base_uri": "https://localhost:8080/"
        },
        "id": "p1XBETwy6PW0",
        "outputId": "cac097c9-9976-4150-cfa1-d20432e37cc9"
      },
      "outputs": [
        {
          "output_type": "stream",
          "name": "stdout",
          "text": [
            "Requirement already satisfied: scipy in /usr/local/lib/python3.10/dist-packages (1.11.4)\n",
            "Requirement already satisfied: numpy<1.28.0,>=1.21.6 in /usr/local/lib/python3.10/dist-packages (from scipy) (1.25.2)\n"
          ]
        }
      ],
      "source": [
        "pip install scipy"
      ]
    },
    {
      "cell_type": "code",
      "source": [
        "import scipy\n",
        "#Example : Integration using quad function\n",
        "from scipy import integrate\n",
        "result, error = integrate.quad(lambda x:x**3,0,1)\n",
        "print(\"Result:\",result)\n",
        "print(\"Error:\",error)"
      ],
      "metadata": {
        "colab": {
          "base_uri": "https://localhost:8080/"
        },
        "id": "u7HehLrm8c4y",
        "outputId": "48815021-6d99-4e2e-c93c-d651ca994a8d"
      },
      "execution_count": null,
      "outputs": [
        {
          "output_type": "stream",
          "name": "stdout",
          "text": [
            "Result: 0.25\n",
            "Error: 2.7755575615628914e-15\n"
          ]
        }
      ]
    },
    {
      "cell_type": "code",
      "source": [
        "import numpy as np\n",
        "from scipy import optimize\n",
        "#Optimization\n",
        "result_optimization = optimize.minimize_scalar(lambda x: x**2 + 3*x+5)\n",
        "print(\"Optimization Result:\",result_optimization.x)"
      ],
      "metadata": {
        "colab": {
          "base_uri": "https://localhost:8080/"
        },
        "id": "axuGlekA9qVM",
        "outputId": "e35d9007-c710-4227-d39b-e2efdb5c3aeb"
      },
      "execution_count": null,
      "outputs": [
        {
          "output_type": "stream",
          "name": "stdout",
          "text": [
            "Optimization Result: -1.5000000000000002\n"
          ]
        }
      ]
    },
    {
      "cell_type": "code",
      "source": [
        "square = lambda x:x**2\n",
        "#Using the lambda function\n",
        "result = square(5)\n",
        "print(\"Result:\",result)"
      ],
      "metadata": {
        "colab": {
          "base_uri": "https://localhost:8080/"
        },
        "id": "ub7qhuyx-v5I",
        "outputId": "ed16f88c-d0a7-4f25-f3c1-4a4c9b643406"
      },
      "execution_count": null,
      "outputs": [
        {
          "output_type": "stream",
          "name": "stdout",
          "text": [
            "Result: 25\n"
          ]
        }
      ]
    },
    {
      "cell_type": "code",
      "source": [
        "add_numbers = lambda x,y:x+y\n",
        "#Using the lambda function\n",
        "result = add_numbers(3,7)\n",
        "print(\"Result\",result)"
      ],
      "metadata": {
        "colab": {
          "base_uri": "https://localhost:8080/"
        },
        "id": "YIvMEmYg_NtS",
        "outputId": "d84a78b6-7954-4d9c-a8ad-230fc1c198b9"
      },
      "execution_count": null,
      "outputs": [
        {
          "output_type": "stream",
          "name": "stdout",
          "text": [
            "Result 10\n"
          ]
        }
      ]
    },
    {
      "cell_type": "code",
      "source": [
        "import numpy as np\n",
        "from scipy import interpolate\n",
        "#Interpolation\n",
        "x_data = np.array([0,1,2,3,4])\n",
        "y_data = np.array([0,2,1,3,5])\n",
        "interp_func = interpolate.interp1d(x_data,y_data,kind='linear')     #Interpolation forula  Y= y1+(x-x1)(y2-y1)/(x2-x1)\n",
        "interp_result = interp_func(2.5)\n",
        "print(\"Interpolation Result:\",interp_result)"
      ],
      "metadata": {
        "colab": {
          "base_uri": "https://localhost:8080/"
        },
        "id": "X9ak7w62_g2n",
        "outputId": "811faa02-96c5-40e7-9c0a-5e19452925b2"
      },
      "execution_count": null,
      "outputs": [
        {
          "output_type": "stream",
          "name": "stdout",
          "text": [
            "Interpolation Result: 2.0\n"
          ]
        }
      ]
    },
    {
      "cell_type": "code",
      "source": [
        "!pip install statsmodels\n",
        "import numpy as np\n",
        "import pandas as pd\n",
        "import scipy.stats as stats\n",
        "import statsmodels.api as sm"
      ],
      "metadata": {
        "colab": {
          "base_uri": "https://localhost:8080/"
        },
        "id": "gyiHJsmQFJJT",
        "outputId": "e9bc1628-41ad-4c60-867b-5718264051cc"
      },
      "execution_count": null,
      "outputs": [
        {
          "output_type": "stream",
          "name": "stdout",
          "text": [
            "Requirement already satisfied: statsmodels in /usr/local/lib/python3.10/dist-packages (0.14.1)\n",
            "Requirement already satisfied: numpy<2,>=1.18 in /usr/local/lib/python3.10/dist-packages (from statsmodels) (1.25.2)\n",
            "Requirement already satisfied: scipy!=1.9.2,>=1.4 in /usr/local/lib/python3.10/dist-packages (from statsmodels) (1.11.4)\n",
            "Requirement already satisfied: pandas!=2.1.0,>=1.0 in /usr/local/lib/python3.10/dist-packages (from statsmodels) (1.5.3)\n",
            "Requirement already satisfied: patsy>=0.5.4 in /usr/local/lib/python3.10/dist-packages (from statsmodels) (0.5.6)\n",
            "Requirement already satisfied: packaging>=21.3 in /usr/local/lib/python3.10/dist-packages (from statsmodels) (23.2)\n",
            "Requirement already satisfied: python-dateutil>=2.8.1 in /usr/local/lib/python3.10/dist-packages (from pandas!=2.1.0,>=1.0->statsmodels) (2.8.2)\n",
            "Requirement already satisfied: pytz>=2020.1 in /usr/local/lib/python3.10/dist-packages (from pandas!=2.1.0,>=1.0->statsmodels) (2023.4)\n",
            "Requirement already satisfied: six in /usr/local/lib/python3.10/dist-packages (from patsy>=0.5.4->statsmodels) (1.16.0)\n"
          ]
        }
      ]
    },
    {
      "cell_type": "code",
      "source": [
        "#Generate sample data\n",
        "np.random.seed(0)\n",
        "data = pd.DataFrame({\n",
        "    'Treatement':np.random.choice(['A','B','C'],size=100),\n",
        "    'Score':np.random.normal(loc=10,scale=2,size=100)\n",
        "})\n",
        "print(data)"
      ],
      "metadata": {
        "colab": {
          "base_uri": "https://localhost:8080/"
        },
        "id": "NHh3lbG0Fqk_",
        "outputId": "7361f613-eeea-4781-d9cd-9e3814e78ed9"
      },
      "execution_count": null,
      "outputs": [
        {
          "output_type": "stream",
          "name": "stdout",
          "text": [
            "   Treatement      Score\n",
            "0           A   8.626821\n",
            "1           B  10.029747\n",
            "2           A   9.248668\n",
            "3           B   9.923553\n",
            "4           B  10.735949\n",
            "..        ...        ...\n",
            "95          A   9.933528\n",
            "96          C  10.131283\n",
            "97          A  10.531571\n",
            "98          B  12.303684\n",
            "99          C  10.276086\n",
            "\n",
            "[100 rows x 2 columns]\n"
          ]
        }
      ]
    },
    {
      "cell_type": "code",
      "source": [
        "#Calculate mean score foreach treatement group\n",
        "mean_score_per_group = data.groupby('Treatement')['Score'].mean()\n",
        "print(mean_score_per_group)"
      ],
      "metadata": {
        "colab": {
          "base_uri": "https://localhost:8080/"
        },
        "id": "k1R0bAI_IAi5",
        "outputId": "e153c989-15ce-4adc-f128-eb032677a5eb"
      },
      "execution_count": null,
      "outputs": [
        {
          "output_type": "stream",
          "name": "stdout",
          "text": [
            "Treatement\n",
            "A     9.611241\n",
            "B    10.099304\n",
            "C    10.010667\n",
            "Name: Score, dtype: float64\n"
          ]
        }
      ]
    },
    {
      "cell_type": "code",
      "source": [
        "#Generate random treatement selections\n",
        "choices = ['A','B','C']\n",
        "size = 100\n",
        "treatment_column = np.random.choice(choices,size=size)\n",
        "print(treatment_column)"
      ],
      "metadata": {
        "colab": {
          "base_uri": "https://localhost:8080/"
        },
        "id": "APdiHpySIyzV",
        "outputId": "4c416341-dd0d-48a4-b577-d19e1283a0ac"
      },
      "execution_count": null,
      "outputs": [
        {
          "output_type": "stream",
          "name": "stdout",
          "text": [
            "['B' 'B' 'C' 'A' 'B' 'A' 'B' 'B' 'C' 'A' 'C' 'A' 'C' 'A' 'C' 'A' 'A' 'A'\n",
            " 'A' 'B' 'C' 'A' 'A' 'B' 'C' 'B' 'A' 'A' 'A' 'A' 'A' 'B' 'A' 'C' 'C' 'C'\n",
            " 'A' 'A' 'C' 'A' 'C' 'C' 'A' 'B' 'B' 'B' 'A' 'A' 'B' 'A' 'A' 'B' 'C' 'C'\n",
            " 'A' 'C' 'B' 'B' 'C' 'B' 'C' 'C' 'B' 'C' 'A' 'A' 'C' 'B' 'B' 'C' 'C' 'B'\n",
            " 'A' 'C' 'A' 'C' 'A' 'C' 'B' 'C' 'B' 'A' 'B' 'B' 'C' 'C' 'A' 'B' 'A' 'A'\n",
            " 'A' 'C' 'A' 'B' 'A' 'C' 'B' 'A' 'B' 'C']\n"
          ]
        }
      ]
    },
    {
      "cell_type": "code",
      "source": [
        "#Generate random numbers follwoing a normal distibution\n",
        "mean = 10\n",
        "std = 2\n",
        "size = 100\n",
        "score_values =mean+std*np.random.randn(size)\n",
        "print(score_values)"
      ],
      "metadata": {
        "colab": {
          "base_uri": "https://localhost:8080/"
        },
        "id": "FpXVY94EJcGe",
        "outputId": "36633688-6bf2-46d7-a5a9-fb921461c57b"
      },
      "execution_count": null,
      "outputs": [
        {
          "output_type": "stream",
          "name": "stdout",
          "text": [
            "[11.04397546 12.39451973  9.23502757 11.38332384 10.70777002 12.09517067\n",
            "  9.15220753  2.97046376  7.31368654 12.85101225 10.45716402  9.48467248\n",
            " 10.10074143  7.23957825  9.47665587  9.64124061  8.61445885 12.27565373\n",
            "  9.6616855   8.47217266  9.00385379  9.27421777 10.52792062  8.74071618\n",
            "  9.05548319  6.97327793 12.21524936 10.3524775   8.11929292 11.85918866\n",
            "  7.87441016  8.22718746 13.84269391  9.08043895  7.82193113 11.96823459\n",
            "  7.68158735  9.12692581 12.01848906 11.42677914  8.54388456 11.67903292\n",
            " 12.47804196  6.43039223  8.40762832  7.19891747  9.63129885  7.21761377\n",
            " 10.07251948  8.37118888 11.39474565  6.52514152 10.2317114  10.73130289\n",
            "  9.85215307  9.01296486 16.20306117 11.71750831  7.69044895 11.88366868\n",
            "  9.43572972  8.04869067 10.19637338 11.81097991 12.03748287  9.77020229\n",
            " 13.48607744  9.35624162 11.65914219  9.58536401 12.23599721 12.12849937\n",
            " 12.30265967  8.45508459  7.41273144 11.35405362 10.8481104   9.02864765\n",
            "  9.89660553 11.13411274 12.13566715 10.54319148 11.23860353  9.88274801\n",
            " 12.5131428  10.59349439 10.79717145  7.89365124  8.72104747  9.70294624\n",
            "  6.85083571  9.00862361  9.76485041 10.74624032  9.22794246  7.53881377\n",
            "  6.08345678  8.96407463 11.15959759  7.29253432]\n"
          ]
        }
      ]
    },
    {
      "cell_type": "code",
      "source": [
        "#Hypothesis testing(t-test)\n",
        "group_A = data[data['Treatement']=='A']['Score']\n",
        "group_B = data[data['Treatement']=='B']['Score']\n",
        "t_stat,p_value =stats.ttest_ind(group_A,group_B)\n",
        "print(\"t-statistic:\",t_stat)\n",
        "print(\"p-value:\",p_value)"
      ],
      "metadata": {
        "colab": {
          "base_uri": "https://localhost:8080/"
        },
        "id": "8y-HxOwKKLUR",
        "outputId": "6faa01d2-7c4f-4c20-901c-0c4556a99f63"
      },
      "execution_count": null,
      "outputs": [
        {
          "output_type": "stream",
          "name": "stdout",
          "text": [
            "t-statistic: -1.0341676575352792\n",
            "p-value: 0.3045674995802033\n"
          ]
        }
      ]
    },
    {
      "cell_type": "code",
      "source": [
        "df = pd.DataFrame({\n",
        "    'A':np.random.normal(loc=10,rescale=2,size=10),\n",
        "    'B':np.random.normal(loc=10,rescale=2,size=10)\n",
        "    })\n",
        "print(df)\n",
        "a=df.['A'].mean()\n",
        "print(a)"
      ],
      "metadata": {
        "colab": {
          "base_uri": "https://localhost:8080/",
          "height": 106
        },
        "id": "0cNsh7ZkQsJe",
        "outputId": "04eea032-5546-42de-8ce1-e18f85d25820"
      },
      "execution_count": null,
      "outputs": [
        {
          "output_type": "error",
          "ename": "SyntaxError",
          "evalue": "invalid syntax (<ipython-input-32-6a5521afbdbb>, line 6)",
          "traceback": [
            "\u001b[0;36m  File \u001b[0;32m\"<ipython-input-32-6a5521afbdbb>\"\u001b[0;36m, line \u001b[0;32m6\u001b[0m\n\u001b[0;31m    a=df.['A'].mean()\u001b[0m\n\u001b[0m         ^\u001b[0m\n\u001b[0;31mSyntaxError\u001b[0m\u001b[0;31m:\u001b[0m invalid syntax\n"
          ]
        }
      ]
    },
    {
      "cell_type": "code",
      "source": [
        "#ANOVA (one-way ANOVA)\n",
        "f_stat,p_value = stats.f_oneway(data[data['Treatement']=='A']['Score'],\n",
        "                                data[data['Treatement']=='B']['Score'],\n",
        "                                data[data['Treatement']=='C']['Score'])\n",
        "print(\"F-statistic:\",f_stat)\n",
        "print(\"p-value\",p_value)"
      ],
      "metadata": {
        "colab": {
          "base_uri": "https://localhost:8080/"
        },
        "id": "DlYN-DoeUebY",
        "outputId": "f61f9e0c-ebc8-48b5-f0ed-b10eef5697c1"
      },
      "execution_count": null,
      "outputs": [
        {
          "output_type": "stream",
          "name": "stdout",
          "text": [
            "F-statistic: 0.6019178068930898\n",
            "p-value 0.5497930622874936\n"
          ]
        }
      ]
    }
  ]
}