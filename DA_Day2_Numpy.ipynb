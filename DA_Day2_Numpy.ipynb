{
  "nbformat": 4,
  "nbformat_minor": 0,
  "metadata": {
    "colab": {
      "provenance": []
    },
    "kernelspec": {
      "name": "python3",
      "display_name": "Python 3"
    },
    "language_info": {
      "name": "python"
    }
  },
  "cells": [
    {
      "cell_type": "code",
      "execution_count": null,
      "metadata": {
        "id": "u2kZsjjJq5E9"
      },
      "outputs": [],
      "source": [
        "import numpy as np\n",
        "#RANDOM M0DULE IS SUB-PACKAGE OF NUMPY"
      ]
    },
    {
      "cell_type": "code",
      "source": [
        "a=np.random.rand(1)\n",
        "print(a)"
      ],
      "metadata": {
        "colab": {
          "base_uri": "https://localhost:8080/"
        },
        "id": "jV6Hwtekt08n",
        "outputId": "c33f8520-ab9d-494f-c8a5-6ad3672c5bb6"
      },
      "execution_count": null,
      "outputs": [
        {
          "output_type": "stream",
          "name": "stdout",
          "text": [
            "[0.63669086]\n"
          ]
        }
      ]
    },
    {
      "cell_type": "code",
      "source": [
        "C = np.random.rand(8,4)  #rand-range is between 0 and 1\n",
        "print(C)"
      ],
      "metadata": {
        "colab": {
          "base_uri": "https://localhost:8080/"
        },
        "id": "6HEB3ZHvsySC",
        "outputId": "00d78992-be61-448d-b541-3d7833313664"
      },
      "execution_count": null,
      "outputs": [
        {
          "output_type": "stream",
          "name": "stdout",
          "text": [
            "[[0.30076888 0.77955218 0.7587343  0.79530862]\n",
            " [0.02084284 0.08582214 0.42815524 0.33596581]\n",
            " [0.6644152  0.52993929 0.20135833 0.4985694 ]\n",
            " [0.25892631 0.83620535 0.98174996 0.27773965]\n",
            " [0.88634062 0.31036971 0.17114165 0.62470629]\n",
            " [0.85071222 0.91420892 0.32044298 0.68905124]\n",
            " [0.46242883 0.51018195 0.68794698 0.65164007]\n",
            " [0.05582132 0.7656205  0.34349165 0.1517082 ]]\n"
          ]
        }
      ]
    },
    {
      "cell_type": "code",
      "source": [
        "A=np.arange(32).reshape(8,4)\n",
        "print(A)"
      ],
      "metadata": {
        "colab": {
          "base_uri": "https://localhost:8080/"
        },
        "id": "2j5G4P7ZuSnz",
        "outputId": "1d1d15a9-70a1-4512-d40f-df1e281f335d"
      },
      "execution_count": null,
      "outputs": [
        {
          "output_type": "stream",
          "name": "stdout",
          "text": [
            "[[ 0  1  2  3]\n",
            " [ 4  5  6  7]\n",
            " [ 8  9 10 11]\n",
            " [12 13 14 15]\n",
            " [16 17 18 19]\n",
            " [20 21 22 23]\n",
            " [24 25 26 27]\n",
            " [28 29 30 31]]\n"
          ]
        }
      ]
    },
    {
      "cell_type": "code",
      "source": [
        "a= 10*np.random.rand(8,4)  #rand-range is between 0 and 1\n",
        "print(a)"
      ],
      "metadata": {
        "colab": {
          "base_uri": "https://localhost:8080/"
        },
        "id": "Ona3nm6lu4Qu",
        "outputId": "c2384459-23cb-436f-93b0-566ef31312e6"
      },
      "execution_count": null,
      "outputs": [
        {
          "output_type": "stream",
          "name": "stdout",
          "text": [
            "[[2.88520202 1.40974725 8.25958436 9.64959622]\n",
            " [3.4923978  1.01713503 2.9566536  3.55564295]\n",
            " [3.11772346 2.69392814 5.29181576 1.23541954]\n",
            " [0.76961687 8.33985154 5.83585206 2.56139962]\n",
            " [1.18836496 8.73286814 9.58192128 3.92494843]\n",
            " [4.26320416 6.27923758 0.99769462 4.85899424]\n",
            " [7.62281972 5.18920937 1.81300556 4.93524094]\n",
            " [7.64141321 4.12778457 5.0667165  0.78258724]]\n"
          ]
        }
      ]
    },
    {
      "cell_type": "code",
      "source": [
        "B= np.floor(10*np.random.rand(8,4) ) #rand-range is between 0 and 1\n",
        "print(B)"
      ],
      "metadata": {
        "colab": {
          "base_uri": "https://localhost:8080/"
        },
        "id": "2bnMG-VzvOzU",
        "outputId": "4b1853ad-5053-48ed-c227-556e00384a28"
      },
      "execution_count": null,
      "outputs": [
        {
          "output_type": "stream",
          "name": "stdout",
          "text": [
            "[[9. 8. 0. 6.]\n",
            " [7. 0. 0. 2.]\n",
            " [6. 4. 1. 9.]\n",
            " [7. 3. 7. 6.]\n",
            " [3. 8. 3. 0.]\n",
            " [9. 7. 3. 7.]\n",
            " [3. 8. 8. 3.]\n",
            " [3. 6. 4. 6.]]\n"
          ]
        }
      ]
    },
    {
      "cell_type": "code",
      "source": [
        "np.vsplit(A,4)"
      ],
      "metadata": {
        "colab": {
          "base_uri": "https://localhost:8080/"
        },
        "id": "sPph5TGuwIOa",
        "outputId": "eb420643-adaa-4d35-ef80-a1d9c70d1d5a"
      },
      "execution_count": null,
      "outputs": [
        {
          "output_type": "execute_result",
          "data": {
            "text/plain": [
              "[array([[9., 8., 0., 6.],\n",
              "        [7., 0., 0., 2.]]),\n",
              " array([[6., 4., 1., 9.],\n",
              "        [7., 3., 7., 6.]]),\n",
              " array([[3., 8., 3., 0.],\n",
              "        [9., 7., 3., 7.]]),\n",
              " array([[3., 8., 8., 3.],\n",
              "        [3., 6., 4., 6.]])]"
            ]
          },
          "metadata": {},
          "execution_count": 8
        }
      ]
    },
    {
      "cell_type": "code",
      "source": [
        "np.vsplit(A,3)"
      ],
      "metadata": {
        "colab": {
          "base_uri": "https://localhost:8080/",
          "height": 321
        },
        "id": "gcGyuN6oxSKD",
        "outputId": "d4b03165-bef1-4150-8ebe-9946dae724da"
      },
      "execution_count": null,
      "outputs": [
        {
          "output_type": "error",
          "ename": "ValueError",
          "evalue": "array split does not result in an equal division",
          "traceback": [
            "\u001b[0;31m---------------------------------------------------------------------------\u001b[0m",
            "\u001b[0;31mValueError\u001b[0m                                Traceback (most recent call last)",
            "\u001b[0;32m<ipython-input-9-bf600901fad4>\u001b[0m in \u001b[0;36m<cell line: 1>\u001b[0;34m()\u001b[0m\n\u001b[0;32m----> 1\u001b[0;31m \u001b[0mnp\u001b[0m\u001b[0;34m.\u001b[0m\u001b[0mvsplit\u001b[0m\u001b[0;34m(\u001b[0m\u001b[0mA\u001b[0m\u001b[0;34m,\u001b[0m\u001b[0;36m3\u001b[0m\u001b[0;34m)\u001b[0m\u001b[0;34m\u001b[0m\u001b[0;34m\u001b[0m\u001b[0m\n\u001b[0m",
            "\u001b[0;32m/usr/local/lib/python3.10/dist-packages/numpy/core/overrides.py\u001b[0m in \u001b[0;36mvsplit\u001b[0;34m(*args, **kwargs)\u001b[0m\n",
            "\u001b[0;32m/usr/local/lib/python3.10/dist-packages/numpy/lib/shape_base.py\u001b[0m in \u001b[0;36mvsplit\u001b[0;34m(ary, indices_or_sections)\u001b[0m\n\u001b[1;32m    995\u001b[0m     \u001b[0;32mif\u001b[0m \u001b[0m_nx\u001b[0m\u001b[0;34m.\u001b[0m\u001b[0mndim\u001b[0m\u001b[0;34m(\u001b[0m\u001b[0mary\u001b[0m\u001b[0;34m)\u001b[0m \u001b[0;34m<\u001b[0m \u001b[0;36m2\u001b[0m\u001b[0;34m:\u001b[0m\u001b[0;34m\u001b[0m\u001b[0;34m\u001b[0m\u001b[0m\n\u001b[1;32m    996\u001b[0m         \u001b[0;32mraise\u001b[0m \u001b[0mValueError\u001b[0m\u001b[0;34m(\u001b[0m\u001b[0;34m'vsplit only works on arrays of 2 or more dimensions'\u001b[0m\u001b[0;34m)\u001b[0m\u001b[0;34m\u001b[0m\u001b[0;34m\u001b[0m\u001b[0m\n\u001b[0;32m--> 997\u001b[0;31m     \u001b[0;32mreturn\u001b[0m \u001b[0msplit\u001b[0m\u001b[0;34m(\u001b[0m\u001b[0mary\u001b[0m\u001b[0;34m,\u001b[0m \u001b[0mindices_or_sections\u001b[0m\u001b[0;34m,\u001b[0m \u001b[0;36m0\u001b[0m\u001b[0;34m)\u001b[0m\u001b[0;34m\u001b[0m\u001b[0;34m\u001b[0m\u001b[0m\n\u001b[0m\u001b[1;32m    998\u001b[0m \u001b[0;34m\u001b[0m\u001b[0m\n\u001b[1;32m    999\u001b[0m \u001b[0;34m\u001b[0m\u001b[0m\n",
            "\u001b[0;32m/usr/local/lib/python3.10/dist-packages/numpy/core/overrides.py\u001b[0m in \u001b[0;36msplit\u001b[0;34m(*args, **kwargs)\u001b[0m\n",
            "\u001b[0;32m/usr/local/lib/python3.10/dist-packages/numpy/lib/shape_base.py\u001b[0m in \u001b[0;36msplit\u001b[0;34m(ary, indices_or_sections, axis)\u001b[0m\n\u001b[1;32m    870\u001b[0m         \u001b[0mN\u001b[0m \u001b[0;34m=\u001b[0m \u001b[0mary\u001b[0m\u001b[0;34m.\u001b[0m\u001b[0mshape\u001b[0m\u001b[0;34m[\u001b[0m\u001b[0maxis\u001b[0m\u001b[0;34m]\u001b[0m\u001b[0;34m\u001b[0m\u001b[0;34m\u001b[0m\u001b[0m\n\u001b[1;32m    871\u001b[0m         \u001b[0;32mif\u001b[0m \u001b[0mN\u001b[0m \u001b[0;34m%\u001b[0m \u001b[0msections\u001b[0m\u001b[0;34m:\u001b[0m\u001b[0;34m\u001b[0m\u001b[0;34m\u001b[0m\u001b[0m\n\u001b[0;32m--> 872\u001b[0;31m             raise ValueError(\n\u001b[0m\u001b[1;32m    873\u001b[0m                 'array split does not result in an equal division') from None\n\u001b[1;32m    874\u001b[0m     \u001b[0;32mreturn\u001b[0m \u001b[0marray_split\u001b[0m\u001b[0;34m(\u001b[0m\u001b[0mary\u001b[0m\u001b[0;34m,\u001b[0m \u001b[0mindices_or_sections\u001b[0m\u001b[0;34m,\u001b[0m \u001b[0maxis\u001b[0m\u001b[0;34m)\u001b[0m\u001b[0;34m\u001b[0m\u001b[0;34m\u001b[0m\u001b[0m\n",
            "\u001b[0;31mValueError\u001b[0m: array split does not result in an equal division"
          ]
        }
      ]
    },
    {
      "cell_type": "code",
      "source": [
        "np.vsplit(A,(2,7))    #split it after second row and seventh row"
      ],
      "metadata": {
        "colab": {
          "base_uri": "https://localhost:8080/"
        },
        "id": "y6GlNKgHyZ-U",
        "outputId": "f755b47e-e9ed-471e-dda2-b56a16f18e34"
      },
      "execution_count": null,
      "outputs": [
        {
          "output_type": "execute_result",
          "data": {
            "text/plain": [
              "[array([[9., 8., 0., 6.],\n",
              "        [7., 0., 0., 2.]]),\n",
              " array([[6., 4., 1., 9.],\n",
              "        [7., 3., 7., 6.],\n",
              "        [3., 8., 3., 0.],\n",
              "        [9., 7., 3., 7.],\n",
              "        [3., 8., 8., 3.]]),\n",
              " array([[3., 6., 4., 6.]])]"
            ]
          },
          "metadata": {},
          "execution_count": 11
        }
      ]
    },
    {
      "cell_type": "code",
      "source": [
        "H=np.arange(32).reshape(4,8)\n",
        "print(H)"
      ],
      "metadata": {
        "colab": {
          "base_uri": "https://localhost:8080/"
        },
        "id": "I9OB66w4ylZH",
        "outputId": "98cc6506-f6c2-46da-9c77-59e3848345a7"
      },
      "execution_count": null,
      "outputs": [
        {
          "output_type": "stream",
          "name": "stdout",
          "text": [
            "[[ 0  1  2  3  4  5  6  7]\n",
            " [ 8  9 10 11 12 13 14 15]\n",
            " [16 17 18 19 20 21 22 23]\n",
            " [24 25 26 27 28 29 30 31]]\n"
          ]
        }
      ]
    },
    {
      "cell_type": "code",
      "source": [
        "np.vsplit(H,4)"
      ],
      "metadata": {
        "colab": {
          "base_uri": "https://localhost:8080/"
        },
        "id": "_EcrzFCF0C8D",
        "outputId": "4d7b96ca-189d-4f7d-d6c1-0e18552b45cb"
      },
      "execution_count": null,
      "outputs": [
        {
          "output_type": "execute_result",
          "data": {
            "text/plain": [
              "[array([[0, 1, 2, 3, 4, 5, 6, 7]]),\n",
              " array([[ 8,  9, 10, 11, 12, 13, 14, 15]]),\n",
              " array([[16, 17, 18, 19, 20, 21, 22, 23]]),\n",
              " array([[24, 25, 26, 27, 28, 29, 30, 31]])]"
            ]
          },
          "metadata": {},
          "execution_count": 14
        }
      ]
    },
    {
      "cell_type": "code",
      "source": [
        "np.hsplit(H,4)"
      ],
      "metadata": {
        "colab": {
          "base_uri": "https://localhost:8080/"
        },
        "id": "gSqjBbdf0MzG",
        "outputId": "eef677ae-ee0a-4e28-dc63-ae2c9618267e"
      },
      "execution_count": null,
      "outputs": [
        {
          "output_type": "execute_result",
          "data": {
            "text/plain": [
              "[array([[ 0,  1],\n",
              "        [ 8,  9],\n",
              "        [16, 17],\n",
              "        [24, 25]]),\n",
              " array([[ 2,  3],\n",
              "        [10, 11],\n",
              "        [18, 19],\n",
              "        [26, 27]]),\n",
              " array([[ 4,  5],\n",
              "        [12, 13],\n",
              "        [20, 21],\n",
              "        [28, 29]]),\n",
              " array([[ 6,  7],\n",
              "        [14, 15],\n",
              "        [22, 23],\n",
              "        [30, 31]])]"
            ]
          },
          "metadata": {},
          "execution_count": 15
        }
      ]
    },
    {
      "cell_type": "code",
      "source": [
        "np.hsplit(H,(3,7))"
      ],
      "metadata": {
        "colab": {
          "base_uri": "https://localhost:8080/"
        },
        "id": "nbyREWfg0x0w",
        "outputId": "e57e2a67-6c78-4462-cfe5-04592ed50076"
      },
      "execution_count": null,
      "outputs": [
        {
          "output_type": "execute_result",
          "data": {
            "text/plain": [
              "[array([[ 0,  1,  2],\n",
              "        [ 8,  9, 10],\n",
              "        [16, 17, 18],\n",
              "        [24, 25, 26]]),\n",
              " array([[ 3,  4,  5,  6],\n",
              "        [11, 12, 13, 14],\n",
              "        [19, 20, 21, 22],\n",
              "        [27, 28, 29, 30]]),\n",
              " array([[ 7],\n",
              "        [15],\n",
              "        [23],\n",
              "        [31]])]"
            ]
          },
          "metadata": {},
          "execution_count": 16
        }
      ]
    },
    {
      "cell_type": "code",
      "source": [
        "np.hsplit(H,(2,5))"
      ],
      "metadata": {
        "colab": {
          "base_uri": "https://localhost:8080/"
        },
        "id": "KYwRDzHS2n2V",
        "outputId": "f84f8be8-c7bc-4c22-dd8e-7afc18f841bb"
      },
      "execution_count": null,
      "outputs": [
        {
          "output_type": "execute_result",
          "data": {
            "text/plain": [
              "[array([[ 0,  1],\n",
              "        [ 8,  9],\n",
              "        [16, 17],\n",
              "        [24, 25]]),\n",
              " array([[ 2,  3,  4],\n",
              "        [10, 11, 12],\n",
              "        [18, 19, 20],\n",
              "        [26, 27, 28]]),\n",
              " array([[ 5,  6,  7],\n",
              "        [13, 14, 15],\n",
              "        [21, 22, 23],\n",
              "        [29, 30, 31]])]"
            ]
          },
          "metadata": {},
          "execution_count": 17
        }
      ]
    },
    {
      "cell_type": "markdown",
      "source": [
        "Trigonometry"
      ],
      "metadata": {
        "id": "159_V4Bc3hta"
      }
    },
    {
      "cell_type": "code",
      "source": [
        "np.pi"
      ],
      "metadata": {
        "colab": {
          "base_uri": "https://localhost:8080/"
        },
        "id": "bkUnnGGl3lri",
        "outputId": "4c1d3b8e-ad56-460e-ddaf-ac7e041e1f08"
      },
      "execution_count": null,
      "outputs": [
        {
          "output_type": "execute_result",
          "data": {
            "text/plain": [
              "3.141592653589793"
            ]
          },
          "metadata": {},
          "execution_count": 18
        }
      ]
    },
    {
      "cell_type": "code",
      "source": [
        "A = [np.pi/4,np.pi/3,np.pi/2,np.pi]\n",
        "print(A)"
      ],
      "metadata": {
        "colab": {
          "base_uri": "https://localhost:8080/"
        },
        "id": "NxtJWgH33oxz",
        "outputId": "a7358f8d-d596-4a9e-a8f2-1de4baea2f85"
      },
      "execution_count": null,
      "outputs": [
        {
          "output_type": "stream",
          "name": "stdout",
          "text": [
            "[0.7853981633974483, 1.0471975511965976, 1.5707963267948966, 3.141592653589793]\n"
          ]
        }
      ]
    },
    {
      "cell_type": "code",
      "source": [
        "np.rad2deg(A)    #convert radians to degrees"
      ],
      "metadata": {
        "colab": {
          "base_uri": "https://localhost:8080/"
        },
        "id": "J32QkDuY4DUz",
        "outputId": "6532676f-38bb-4bc6-9023-08fd572599b0"
      },
      "execution_count": null,
      "outputs": [
        {
          "output_type": "execute_result",
          "data": {
            "text/plain": [
              "array([ 45.,  60.,  90., 180.])"
            ]
          },
          "metadata": {},
          "execution_count": 20
        }
      ]
    },
    {
      "cell_type": "code",
      "source": [
        "np.deg2rad(A)   #convert degrees to radians"
      ],
      "metadata": {
        "colab": {
          "base_uri": "https://localhost:8080/"
        },
        "id": "ZkquS-835O0C",
        "outputId": "61b12b8f-44ce-4c26-aba6-82914de9a0ea"
      },
      "execution_count": null,
      "outputs": [
        {
          "output_type": "execute_result",
          "data": {
            "text/plain": [
              "array([0.01370778, 0.01827705, 0.02741557, 0.05483114])"
            ]
          },
          "metadata": {},
          "execution_count": 21
        }
      ]
    },
    {
      "cell_type": "code",
      "source": [
        "B=np.deg2rad(A)"
      ],
      "metadata": {
        "id": "_3OaZ7zG5aj3"
      },
      "execution_count": null,
      "outputs": []
    },
    {
      "cell_type": "code",
      "source": [
        "np.sin(1)    #radians"
      ],
      "metadata": {
        "colab": {
          "base_uri": "https://localhost:8080/"
        },
        "id": "xKqKEAF25rpc",
        "outputId": "c2d7b926-6b2e-414f-f53b-96fa4fadd17c"
      },
      "execution_count": null,
      "outputs": [
        {
          "output_type": "execute_result",
          "data": {
            "text/plain": [
              "0.8414709848078965"
            ]
          },
          "metadata": {},
          "execution_count": 25
        }
      ]
    },
    {
      "cell_type": "code",
      "source": [
        "np.cos(1)"
      ],
      "metadata": {
        "colab": {
          "base_uri": "https://localhost:8080/"
        },
        "id": "IuwsZdTj558o",
        "outputId": "793e7c05-9c6c-47f8-c30c-7e3cdbd095e8"
      },
      "execution_count": null,
      "outputs": [
        {
          "output_type": "execute_result",
          "data": {
            "text/plain": [
              "0.5403023058681398"
            ]
          },
          "metadata": {},
          "execution_count": 26
        }
      ]
    },
    {
      "cell_type": "code",
      "source": [
        "np.tan(1)"
      ],
      "metadata": {
        "colab": {
          "base_uri": "https://localhost:8080/"
        },
        "id": "NulSjqIB6CvL",
        "outputId": "aea4ad0b-1712-427d-97d5-62646aeda650"
      },
      "execution_count": null,
      "outputs": [
        {
          "output_type": "execute_result",
          "data": {
            "text/plain": [
              "1.5574077246549023"
            ]
          },
          "metadata": {},
          "execution_count": 27
        }
      ]
    },
    {
      "cell_type": "markdown",
      "source": [
        "Statistics"
      ],
      "metadata": {
        "id": "cvXZOLm-6eEF"
      }
    },
    {
      "cell_type": "code",
      "source": [
        "st = np.array([23,45,67,89,21,34])"
      ],
      "metadata": {
        "id": "05QzgV5D6g3c"
      },
      "execution_count": null,
      "outputs": []
    },
    {
      "cell_type": "code",
      "source": [
        "np.mean(st)    #(sum of products/no of products)"
      ],
      "metadata": {
        "colab": {
          "base_uri": "https://localhost:8080/"
        },
        "id": "Y4BDmNsW6tc-",
        "outputId": "87df8596-1142-4094-96bd-a48c5675d0f5"
      },
      "execution_count": null,
      "outputs": [
        {
          "output_type": "execute_result",
          "data": {
            "text/plain": [
              "46.5"
            ]
          },
          "metadata": {},
          "execution_count": 30
        }
      ]
    },
    {
      "cell_type": "code",
      "source": [
        "np.median(st)   #Average value"
      ],
      "metadata": {
        "colab": {
          "base_uri": "https://localhost:8080/"
        },
        "id": "YVpnex677FRM",
        "outputId": "af1da027-b32f-4075-e821-5f95d5a64291"
      },
      "execution_count": null,
      "outputs": [
        {
          "output_type": "execute_result",
          "data": {
            "text/plain": [
              "39.5"
            ]
          },
          "metadata": {},
          "execution_count": 31
        }
      ]
    },
    {
      "cell_type": "code",
      "source": [
        "np.std(st)   #standard deviation"
      ],
      "metadata": {
        "colab": {
          "base_uri": "https://localhost:8080/"
        },
        "id": "KaLdadVW8-Th",
        "outputId": "798cdf0d-7392-4624-9b0d-9ff3531cf9c7"
      },
      "execution_count": null,
      "outputs": [
        {
          "output_type": "execute_result",
          "data": {
            "text/plain": [
              "24.452334585202017"
            ]
          },
          "metadata": {},
          "execution_count": 33
        }
      ]
    },
    {
      "cell_type": "code",
      "source": [
        "np.var(st)   #(standard deviation)^2=variance"
      ],
      "metadata": {
        "colab": {
          "base_uri": "https://localhost:8080/"
        },
        "id": "zgvJauDD7k1O",
        "outputId": "87b7a4c9-17ad-4f59-d892-772fdbdbf5e6"
      },
      "execution_count": null,
      "outputs": [
        {
          "output_type": "execute_result",
          "data": {
            "text/plain": [
              "597.9166666666666"
            ]
          },
          "metadata": {},
          "execution_count": 32
        }
      ]
    },
    {
      "cell_type": "code",
      "source": [
        "c = np.arange(1,5).reshape(2,2)\n",
        "print(c)"
      ],
      "metadata": {
        "colab": {
          "base_uri": "https://localhost:8080/"
        },
        "id": "rYpyg7yp-feh",
        "outputId": "b308adc6-06e9-4c89-c46e-a03f0b4e0f10"
      },
      "execution_count": null,
      "outputs": [
        {
          "output_type": "stream",
          "name": "stdout",
          "text": [
            "[[1 2]\n",
            " [3 4]]\n"
          ]
        }
      ]
    },
    {
      "cell_type": "code",
      "source": [
        "np.linalg.inv(c)"
      ],
      "metadata": {
        "colab": {
          "base_uri": "https://localhost:8080/"
        },
        "id": "TEH9wFJ8-sw7",
        "outputId": "6657b1d3-5822-4e42-e1d0-4fba0435d3f2"
      },
      "execution_count": null,
      "outputs": [
        {
          "output_type": "execute_result",
          "data": {
            "text/plain": [
              "array([[-2. ,  1. ],\n",
              "       [ 1.5, -0.5]])"
            ]
          },
          "metadata": {},
          "execution_count": 35
        }
      ]
    },
    {
      "cell_type": "code",
      "source": [
        "C = np.arange(1,25).reshape(6,4)\n",
        "print(C)"
      ],
      "metadata": {
        "colab": {
          "base_uri": "https://localhost:8080/"
        },
        "id": "GmjXzg3o_QgX",
        "outputId": "f0e0c7ef-b861-4226-ccd6-c6ff2f5b5465"
      },
      "execution_count": null,
      "outputs": [
        {
          "output_type": "stream",
          "name": "stdout",
          "text": [
            "[[ 1  2  3  4]\n",
            " [ 5  6  7  8]\n",
            " [ 9 10 11 12]\n",
            " [13 14 15 16]\n",
            " [17 18 19 20]\n",
            " [21 22 23 24]]\n"
          ]
        }
      ]
    },
    {
      "cell_type": "code",
      "source": [
        "print(np.argmax(C))"
      ],
      "metadata": {
        "colab": {
          "base_uri": "https://localhost:8080/"
        },
        "id": "68MzDUc_AViY",
        "outputId": "fec2e3ba-b208-49a3-c5d5-250160569864"
      },
      "execution_count": null,
      "outputs": [
        {
          "output_type": "stream",
          "name": "stdout",
          "text": [
            "23\n"
          ]
        }
      ]
    },
    {
      "cell_type": "code",
      "source": [
        "C = 10*np.random.rand(24).reshape(6,4)\n",
        "print(C)"
      ],
      "metadata": {
        "colab": {
          "base_uri": "https://localhost:8080/"
        },
        "id": "DdZXMlD6AiST",
        "outputId": "8c220ca2-6519-4422-98b3-7e05006f2d9c"
      },
      "execution_count": null,
      "outputs": [
        {
          "output_type": "stream",
          "name": "stdout",
          "text": [
            "[[9.08280951 7.94201155 5.83917101 5.2695283 ]\n",
            " [1.40864149 4.81752279 5.10196535 6.99612961]\n",
            " [7.85925062 4.35649604 8.96573942 6.44928938]\n",
            " [2.98679896 0.63120571 9.69553038 6.79488672]\n",
            " [4.21943602 8.1780225  8.83577454 8.25417939]\n",
            " [9.33097312 3.25992532 9.83213492 2.27201873]]\n"
          ]
        }
      ]
    },
    {
      "cell_type": "code",
      "source": [
        "print(np.argmax(C))"
      ],
      "metadata": {
        "colab": {
          "base_uri": "https://localhost:8080/"
        },
        "id": "5v1-SWhvBXlD",
        "outputId": "4f2c70a6-54b4-43cd-8d9a-74c5ab9ac852"
      },
      "execution_count": null,
      "outputs": [
        {
          "output_type": "stream",
          "name": "stdout",
          "text": [
            "22\n"
          ]
        }
      ]
    },
    {
      "cell_type": "code",
      "source": [
        "print(np.argmax(C,axis=1))    #row wise maximum"
      ],
      "metadata": {
        "colab": {
          "base_uri": "https://localhost:8080/"
        },
        "id": "hS-LgPsVCXyQ",
        "outputId": "06836b15-b4c7-44b4-c9ee-3592d2a06ebb"
      },
      "execution_count": null,
      "outputs": [
        {
          "output_type": "stream",
          "name": "stdout",
          "text": [
            "[0 3 2 2 2 2]\n"
          ]
        }
      ]
    },
    {
      "cell_type": "code",
      "source": [
        "print(np.argmax(C,axis=0))    #column wise maximum"
      ],
      "metadata": {
        "colab": {
          "base_uri": "https://localhost:8080/"
        },
        "id": "sPJZmDPKDXOp",
        "outputId": "f35e91e2-9533-42c1-cc8d-af02b3ee3ec4"
      },
      "execution_count": null,
      "outputs": [
        {
          "output_type": "stream",
          "name": "stdout",
          "text": [
            "[5 4 5 4]\n"
          ]
        }
      ]
    },
    {
      "cell_type": "code",
      "source": [
        "print(np.argmin(C))"
      ],
      "metadata": {
        "colab": {
          "base_uri": "https://localhost:8080/"
        },
        "id": "cgoGMAovEKh8",
        "outputId": "5201bca3-2ef7-477a-e674-78d3560465c7"
      },
      "execution_count": null,
      "outputs": [
        {
          "output_type": "stream",
          "name": "stdout",
          "text": [
            "13\n"
          ]
        }
      ]
    },
    {
      "cell_type": "code",
      "source": [
        "print(np.argmin(C,axis=0))"
      ],
      "metadata": {
        "colab": {
          "base_uri": "https://localhost:8080/"
        },
        "id": "jxqjv5DsEkgs",
        "outputId": "7a3b6161-63c5-4864-8f7a-e46d2d9e33fa"
      },
      "execution_count": null,
      "outputs": [
        {
          "output_type": "stream",
          "name": "stdout",
          "text": [
            "[1 3 1 5]\n"
          ]
        }
      ]
    },
    {
      "cell_type": "code",
      "source": [
        "print(np.argmin(C,axis=1))"
      ],
      "metadata": {
        "colab": {
          "base_uri": "https://localhost:8080/"
        },
        "id": "WrUZJjZREuRb",
        "outputId": "d03130db-afda-40da-9ef5-17de27de0d49"
      },
      "execution_count": null,
      "outputs": [
        {
          "output_type": "stream",
          "name": "stdout",
          "text": [
            "[3 0 1 1 0 3]\n"
          ]
        }
      ]
    },
    {
      "cell_type": "markdown",
      "source": [
        "Searching"
      ],
      "metadata": {
        "id": "e16E9M-9FMnm"
      }
    },
    {
      "cell_type": "code",
      "source": [
        "a = np.array([34,56,17,7,88,91])\n",
        "print(np.where(a%2==0))"
      ],
      "metadata": {
        "colab": {
          "base_uri": "https://localhost:8080/"
        },
        "id": "oX3O7IJaFO7E",
        "outputId": "21cdef8c-a7e7-42e0-c068-41972ecd1734"
      },
      "execution_count": null,
      "outputs": [
        {
          "output_type": "stream",
          "name": "stdout",
          "text": [
            "(array([0, 1, 4]),)\n"
          ]
        }
      ]
    },
    {
      "cell_type": "code",
      "source": [
        "a = np.array([34,56,17,7,88,91])\n",
        "print(np.where(a%2==1))"
      ],
      "metadata": {
        "colab": {
          "base_uri": "https://localhost:8080/"
        },
        "id": "QeptjKRuGH4E",
        "outputId": "be841a04-6aa4-4aaa-a5a9-94eb201a906b"
      },
      "execution_count": null,
      "outputs": [
        {
          "output_type": "stream",
          "name": "stdout",
          "text": [
            "(array([2, 3, 5]),)\n"
          ]
        }
      ]
    },
    {
      "cell_type": "code",
      "source": [
        "s = np.array([24,16,7,17,54,60])\n",
        "print(np.where (s%6==0))"
      ],
      "metadata": {
        "colab": {
          "base_uri": "https://localhost:8080/"
        },
        "id": "lGLOYVbgGbPV",
        "outputId": "e847bd48-cc05-4b78-cc5d-ac2d2d0765f9"
      },
      "execution_count": null,
      "outputs": [
        {
          "output_type": "stream",
          "name": "stdout",
          "text": [
            "(array([0, 4, 5]),)\n"
          ]
        }
      ]
    },
    {
      "cell_type": "code",
      "source": [
        "S = np.array([7,10,25,66,90])\n",
        "x = np.searchsorted(S,10)\n",
        "print(x)"
      ],
      "metadata": {
        "colab": {
          "base_uri": "https://localhost:8080/"
        },
        "id": "HQw1GhKTHhkv",
        "outputId": "2ac99a25-4ab5-4f72-eabf-6cc39c7cca07"
      },
      "execution_count": null,
      "outputs": [
        {
          "output_type": "stream",
          "name": "stdout",
          "text": [
            "1\n"
          ]
        }
      ]
    },
    {
      "cell_type": "code",
      "source": [
        "S = np.array([7,10,5,6,90])\n",
        "x = np.searchsorted(S,10)\n",
        "print(x)"
      ],
      "metadata": {
        "colab": {
          "base_uri": "https://localhost:8080/"
        },
        "id": "UxTSe0V2ILc9",
        "outputId": "d80d4969-ea46-4b44-9f38-f8a32b469c18"
      },
      "execution_count": null,
      "outputs": [
        {
          "output_type": "stream",
          "name": "stdout",
          "text": [
            "4\n"
          ]
        }
      ]
    },
    {
      "cell_type": "code",
      "source": [
        "a = np.array(['babu','ajay','ramana'])\n",
        "print(np.sort(a))"
      ],
      "metadata": {
        "colab": {
          "base_uri": "https://localhost:8080/"
        },
        "id": "3YlDs50VIafe",
        "outputId": "9b2b072f-b998-4145-e130-61e5870e1b6d"
      },
      "execution_count": null,
      "outputs": [
        {
          "output_type": "stream",
          "name": "stdout",
          "text": [
            "['ajay' 'babu' 'ramana']\n"
          ]
        }
      ]
    },
    {
      "cell_type": "code",
      "source": [
        "a = np.array([True,False,True])\n",
        "print(np.sort(a))"
      ],
      "metadata": {
        "colab": {
          "base_uri": "https://localhost:8080/"
        },
        "id": "ftYi8QiDJcPa",
        "outputId": "cef4fa25-a078-454c-e841-c234b89376dd"
      },
      "execution_count": null,
      "outputs": [
        {
          "output_type": "stream",
          "name": "stdout",
          "text": [
            "[False  True  True]\n"
          ]
        }
      ]
    },
    {
      "cell_type": "code",
      "source": [
        "a = np.array([[3,2,4],[5,0,1]])\n",
        "print(np.sort(a))"
      ],
      "metadata": {
        "colab": {
          "base_uri": "https://localhost:8080/"
        },
        "id": "xqit0wk0JxbU",
        "outputId": "173917a3-d0bc-4a4d-883d-7e0da61a6a29"
      },
      "execution_count": null,
      "outputs": [
        {
          "output_type": "stream",
          "name": "stdout",
          "text": [
            "[[2 3 4]\n",
            " [0 1 5]]\n"
          ]
        }
      ]
    },
    {
      "cell_type": "code",
      "source": [
        "arr = np.array([40,43,50,44,67,78])\n",
        "filt=np.where(arr%2==0)\n",
        "print(filt)"
      ],
      "metadata": {
        "colab": {
          "base_uri": "https://localhost:8080/"
        },
        "id": "2SDf-RDRK2Qu",
        "outputId": "dc3a6177-7e6d-4440-b70d-554e01a1163a"
      },
      "execution_count": null,
      "outputs": [
        {
          "output_type": "stream",
          "name": "stdout",
          "text": [
            "(array([0, 2, 3, 5]),)\n"
          ]
        }
      ]
    },
    {
      "cell_type": "code",
      "source": [
        "arr[filt]"
      ],
      "metadata": {
        "colab": {
          "base_uri": "https://localhost:8080/"
        },
        "id": "WfXQdFw6L4Or",
        "outputId": "6566abb2-c7dc-46d3-d399-db36debd4cf9"
      },
      "execution_count": null,
      "outputs": [
        {
          "output_type": "execute_result",
          "data": {
            "text/plain": [
              "array([40, 50, 44, 78])"
            ]
          },
          "metadata": {},
          "execution_count": 62
        }
      ]
    },
    {
      "cell_type": "markdown",
      "source": [
        "Iterating through two Arrays"
      ],
      "metadata": {
        "id": "tIyZcE9uOlGJ"
      }
    },
    {
      "cell_type": "code",
      "source": [
        "names = np.array([\"hemanth\",\"abdul\",\"revanth\",\"manohar\",\"vinay\"])\n",
        "initials = np.array([\"k\",\"M\",\"s\",\"T\",\"D\"])\n",
        "for i,j in zip(initials,names):\n",
        "  print(i,\".\",j)"
      ],
      "metadata": {
        "colab": {
          "base_uri": "https://localhost:8080/"
        },
        "id": "9MGV9ApfM3T_",
        "outputId": "35bb1430-0852-4584-b2fc-b9077f449cac"
      },
      "execution_count": null,
      "outputs": [
        {
          "output_type": "stream",
          "name": "stdout",
          "text": [
            "k . hemanth\n",
            "M . abdul\n",
            "s . revanth\n",
            "T . manohar\n",
            "D . vinay\n"
          ]
        }
      ]
    },
    {
      "cell_type": "code",
      "source": [
        "names = np.array([\"hemanth\",\"abdul\",\"revanth\",\"manohar\",\"vinay\"])\n",
        "initials = np.array([\"k\",\"M\",\"s\",\"T\",\"D\"])\n",
        "age = np.array([20,19,22,21,25])\n",
        "for i,j,k in zip(initials,names,age):\n",
        "  print(i,\".\",j,\".\",k)"
      ],
      "metadata": {
        "colab": {
          "base_uri": "https://localhost:8080/"
        },
        "id": "JiIB6Y8bPFyE",
        "outputId": "580d87d6-587b-4e42-9086-c6440a622f41"
      },
      "execution_count": null,
      "outputs": [
        {
          "output_type": "stream",
          "name": "stdout",
          "text": [
            "k . hemanth . 20\n",
            "M . abdul . 19\n",
            "s . revanth . 22\n",
            "T . manohar . 21\n",
            "D . vinay . 25\n"
          ]
        }
      ]
    },
    {
      "cell_type": "code",
      "source": [
        "a1 = np.array([34,56,7,17,88,91])\n",
        "a2 = np.array([24,16,7,17,54,60])\n",
        "n=np.multiply(a1,a2)"
      ],
      "metadata": {
        "colab": {
          "base_uri": "https://localhost:8080/"
        },
        "id": "u3geCr63QgBx",
        "outputId": "19108960-5b3d-4e2b-ed9e-fec6428ca05e"
      },
      "execution_count": null,
      "outputs": [
        {
          "output_type": "stream",
          "name": "stdout",
          "text": [
            "[ 816  896   49  289 4752 5460]\n"
          ]
        }
      ]
    },
    {
      "cell_type": "code",
      "source": [
        "a1 = np.array([34,56,7,17,88,91])\n",
        "a2 = np.array([24,16,7,17,54,60])\n",
        "n=np.divide(a1,a2)\n",
        "print(n)"
      ],
      "metadata": {
        "colab": {
          "base_uri": "https://localhost:8080/"
        },
        "id": "d8PwCUUGRhVJ",
        "outputId": "f0f696be-cf51-453d-b023-c42913ee1535"
      },
      "execution_count": null,
      "outputs": [
        {
          "output_type": "stream",
          "name": "stdout",
          "text": [
            "[1.41666667 3.5        1.         1.         1.62962963 1.51666667]\n"
          ]
        }
      ]
    },
    {
      "cell_type": "code",
      "source": [
        "a1 = np.array([34,56,7,17,88,91])\n",
        "a2 = np.array([24,16,7,17,54,60])\n",
        "n=np.mod(a1,a2)\n",
        "print(n)"
      ],
      "metadata": {
        "colab": {
          "base_uri": "https://localhost:8080/"
        },
        "id": "l6bStNT6RoLS",
        "outputId": "0565546c-fb87-4474-fb15-2571ea06e614"
      },
      "execution_count": null,
      "outputs": [
        {
          "output_type": "stream",
          "name": "stdout",
          "text": [
            "[10  8  0  0 34 31]\n"
          ]
        }
      ]
    },
    {
      "cell_type": "code",
      "source": [
        "a1 = np.array([34,56,7,17,88,91])\n",
        "a2 = np.array([24,16,7,17,54,60])\n",
        "n=np.divmod(a1,a2)\n",
        "print(n)"
      ],
      "metadata": {
        "colab": {
          "base_uri": "https://localhost:8080/"
        },
        "id": "Z95w9OiVRzKr",
        "outputId": "d1f377ee-cd69-4fdc-9910-5d6e81fa5ec3"
      },
      "execution_count": null,
      "outputs": [
        {
          "output_type": "stream",
          "name": "stdout",
          "text": [
            "(array([1, 3, 1, 1, 1, 1]), array([10,  8,  0,  0, 34, 31]))\n"
          ]
        }
      ]
    },
    {
      "cell_type": "markdown",
      "source": [
        "Logarithms"
      ],
      "metadata": {
        "id": "Ig0Yq2WfSWCB"
      }
    },
    {
      "cell_type": "code",
      "source": [
        "a1 = np.arange(1,10)     #log base 2\n",
        "print(a1)\n",
        "print(np.log2(a1))"
      ],
      "metadata": {
        "colab": {
          "base_uri": "https://localhost:8080/"
        },
        "id": "hYKLAlVqSZVG",
        "outputId": "5e183445-1977-4c81-9539-36e936aaf340"
      },
      "execution_count": null,
      "outputs": [
        {
          "output_type": "stream",
          "name": "stdout",
          "text": [
            "[1 2 3 4 5 6 7 8 9]\n",
            "[0.         1.         1.5849625  2.         2.32192809 2.5849625\n",
            " 2.80735492 3.         3.169925  ]\n"
          ]
        }
      ]
    },
    {
      "cell_type": "code",
      "source": [
        "a=1.2\n",
        "print(np.log(a))    #Natural log e"
      ],
      "metadata": {
        "colab": {
          "base_uri": "https://localhost:8080/"
        },
        "id": "93N8LMWMS9IO",
        "outputId": "2cda412e-a2cf-424b-c0ce-8d25a4b8cf65"
      },
      "execution_count": null,
      "outputs": [
        {
          "output_type": "stream",
          "name": "stdout",
          "text": [
            "0.1823215567939546\n"
          ]
        }
      ]
    },
    {
      "cell_type": "code",
      "source": [
        "a=1.2                  #log base 10\n",
        "print(np.log10(a))"
      ],
      "metadata": {
        "colab": {
          "base_uri": "https://localhost:8080/"
        },
        "id": "czMwuEgvTSPi",
        "outputId": "7c2c7176-cf42-4e24-8b74-2b8eb486ea95"
      },
      "execution_count": null,
      "outputs": [
        {
          "output_type": "stream",
          "name": "stdout",
          "text": [
            "0.07918124604762482\n"
          ]
        }
      ]
    },
    {
      "cell_type": "markdown",
      "source": [
        "Other Mathematical Functions"
      ],
      "metadata": {
        "id": "HAToDelyUxSY"
      }
    },
    {
      "cell_type": "code",
      "source": [
        "a2 = np.array([5,6,7,10])\n",
        "x=np.cumprod(a2)\n",
        "print(x)"
      ],
      "metadata": {
        "colab": {
          "base_uri": "https://localhost:8080/"
        },
        "id": "Wa9B1hMVU2Mu",
        "outputId": "62a4907f-4227-4974-8fca-077801bb0337"
      },
      "execution_count": null,
      "outputs": [
        {
          "output_type": "stream",
          "name": "stdout",
          "text": [
            "[   5   30  210 2100]\n"
          ]
        }
      ]
    },
    {
      "cell_type": "code",
      "source": [
        "a2 = np.array([5,6,7,10])\n",
        "x=np.cumsum(a2)\n",
        "print(x)"
      ],
      "metadata": {
        "colab": {
          "base_uri": "https://localhost:8080/"
        },
        "id": "I3pZYzcnVE5l",
        "outputId": "5c30e603-f96a-4c69-8c93-4432a39f6312"
      },
      "execution_count": null,
      "outputs": [
        {
          "output_type": "stream",
          "name": "stdout",
          "text": [
            "[ 5 11 18 28]\n"
          ]
        }
      ]
    },
    {
      "cell_type": "code",
      "source": [
        "a2 = np.array([5,6,7,10])\n",
        "x=np.diff(a2)\n",
        "print(x)"
      ],
      "metadata": {
        "colab": {
          "base_uri": "https://localhost:8080/"
        },
        "id": "8AATueYLVMz4",
        "outputId": "0926b3cb-6e1d-4970-9b43-8ba0bceaaee0"
      },
      "execution_count": null,
      "outputs": [
        {
          "output_type": "stream",
          "name": "stdout",
          "text": [
            "[1 1 3]\n"
          ]
        }
      ]
    },
    {
      "cell_type": "code",
      "source": [
        "num1 = 455\n",
        "num2 = 665\n",
        "x = np.lcm(num1,num2)\n",
        "print(x)"
      ],
      "metadata": {
        "colab": {
          "base_uri": "https://localhost:8080/"
        },
        "id": "8dQHdouJV7sH",
        "outputId": "5ab6031b-4a4e-42e7-9be6-9c1bf3ff9fb6"
      },
      "execution_count": null,
      "outputs": [
        {
          "output_type": "stream",
          "name": "stdout",
          "text": [
            "8645\n"
          ]
        }
      ]
    },
    {
      "cell_type": "code",
      "source": [
        "num1 = 455\n",
        "num2 = 665\n",
        "x = np.gcd(num1,num2)\n",
        "print(x)"
      ],
      "metadata": {
        "colab": {
          "base_uri": "https://localhost:8080/"
        },
        "id": "aOJ8NX8sWL7K",
        "outputId": "dca0feb6-1791-4ebd-b379-d755151f7e11"
      },
      "execution_count": null,
      "outputs": [
        {
          "output_type": "stream",
          "name": "stdout",
          "text": [
            "35\n"
          ]
        }
      ]
    },
    {
      "cell_type": "code",
      "source": [
        " a= np.array([12,15,45,60])\n",
        "gc = np.gcd.reduce(a)\n",
        "print(gc)"
      ],
      "metadata": {
        "colab": {
          "base_uri": "https://localhost:8080/"
        },
        "id": "iYIjCBYVW_uS",
        "outputId": "146fff75-c009-4dd9-d7eb-449bcc865cd1"
      },
      "execution_count": null,
      "outputs": [
        {
          "output_type": "stream",
          "name": "stdout",
          "text": [
            "3\n"
          ]
        }
      ]
    },
    {
      "cell_type": "code",
      "source": [
        " a= np.array([12,15,45,60])\n",
        "gc = np.lcm.reduce(a)\n",
        "print(gc)"
      ],
      "metadata": {
        "colab": {
          "base_uri": "https://localhost:8080/"
        },
        "id": "QoHmcEdpXgZi",
        "outputId": "60fe7d72-7544-494e-dea5-ce35d46c98a7"
      },
      "execution_count": null,
      "outputs": [
        {
          "output_type": "stream",
          "name": "stdout",
          "text": [
            "180\n"
          ]
        }
      ]
    }
  ]
}