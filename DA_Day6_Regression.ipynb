{
  "nbformat": 4,
  "nbformat_minor": 0,
  "metadata": {
    "colab": {
      "provenance": [],
      "authorship_tag": "ABX9TyMr1uC1p/mOtMxZBd/+agmy",
      "include_colab_link": true
    },
    "kernelspec": {
      "name": "python3",
      "display_name": "Python 3"
    },
    "language_info": {
      "name": "python"
    }
  },
  "cells": [
    {
      "cell_type": "markdown",
      "metadata": {
        "id": "view-in-github",
        "colab_type": "text"
      },
      "source": [
        "<a href=\"https://colab.research.google.com/github/HemanthKancharla0411/Data-Analysis/blob/main/DA_Day6_Regression.ipynb\" target=\"_parent\"><img src=\"https://colab.research.google.com/assets/colab-badge.svg\" alt=\"Open In Colab\"/></a>"
      ]
    },
    {
      "cell_type": "code",
      "execution_count": null,
      "metadata": {
        "id": "SItB-GCzUW13"
      },
      "outputs": [],
      "source": [
        "from sklearn.linear_model import LinearRegression\n",
        "LR = LinearRegression()"
      ]
    },
    {
      "cell_type": "code",
      "source": [
        "t=[[5],[7],[12],[16],[20]]\n",
        "m=[40,120,180,210,240]\n",
        "LR.fit(t,m)"
      ],
      "metadata": {
        "colab": {
          "base_uri": "https://localhost:8080/",
          "height": 74
        },
        "id": "MtTfv0k2lqPC",
        "outputId": "11575cbd-48f8-458a-ea2c-04ec900ff52e"
      },
      "execution_count": null,
      "outputs": [
        {
          "output_type": "execute_result",
          "data": {
            "text/plain": [
              "LinearRegression()"
            ],
            "text/html": [
              "<style>#sk-container-id-1 {color: black;background-color: white;}#sk-container-id-1 pre{padding: 0;}#sk-container-id-1 div.sk-toggleable {background-color: white;}#sk-container-id-1 label.sk-toggleable__label {cursor: pointer;display: block;width: 100%;margin-bottom: 0;padding: 0.3em;box-sizing: border-box;text-align: center;}#sk-container-id-1 label.sk-toggleable__label-arrow:before {content: \"▸\";float: left;margin-right: 0.25em;color: #696969;}#sk-container-id-1 label.sk-toggleable__label-arrow:hover:before {color: black;}#sk-container-id-1 div.sk-estimator:hover label.sk-toggleable__label-arrow:before {color: black;}#sk-container-id-1 div.sk-toggleable__content {max-height: 0;max-width: 0;overflow: hidden;text-align: left;background-color: #f0f8ff;}#sk-container-id-1 div.sk-toggleable__content pre {margin: 0.2em;color: black;border-radius: 0.25em;background-color: #f0f8ff;}#sk-container-id-1 input.sk-toggleable__control:checked~div.sk-toggleable__content {max-height: 200px;max-width: 100%;overflow: auto;}#sk-container-id-1 input.sk-toggleable__control:checked~label.sk-toggleable__label-arrow:before {content: \"▾\";}#sk-container-id-1 div.sk-estimator input.sk-toggleable__control:checked~label.sk-toggleable__label {background-color: #d4ebff;}#sk-container-id-1 div.sk-label input.sk-toggleable__control:checked~label.sk-toggleable__label {background-color: #d4ebff;}#sk-container-id-1 input.sk-hidden--visually {border: 0;clip: rect(1px 1px 1px 1px);clip: rect(1px, 1px, 1px, 1px);height: 1px;margin: -1px;overflow: hidden;padding: 0;position: absolute;width: 1px;}#sk-container-id-1 div.sk-estimator {font-family: monospace;background-color: #f0f8ff;border: 1px dotted black;border-radius: 0.25em;box-sizing: border-box;margin-bottom: 0.5em;}#sk-container-id-1 div.sk-estimator:hover {background-color: #d4ebff;}#sk-container-id-1 div.sk-parallel-item::after {content: \"\";width: 100%;border-bottom: 1px solid gray;flex-grow: 1;}#sk-container-id-1 div.sk-label:hover label.sk-toggleable__label {background-color: #d4ebff;}#sk-container-id-1 div.sk-serial::before {content: \"\";position: absolute;border-left: 1px solid gray;box-sizing: border-box;top: 0;bottom: 0;left: 50%;z-index: 0;}#sk-container-id-1 div.sk-serial {display: flex;flex-direction: column;align-items: center;background-color: white;padding-right: 0.2em;padding-left: 0.2em;position: relative;}#sk-container-id-1 div.sk-item {position: relative;z-index: 1;}#sk-container-id-1 div.sk-parallel {display: flex;align-items: stretch;justify-content: center;background-color: white;position: relative;}#sk-container-id-1 div.sk-item::before, #sk-container-id-1 div.sk-parallel-item::before {content: \"\";position: absolute;border-left: 1px solid gray;box-sizing: border-box;top: 0;bottom: 0;left: 50%;z-index: -1;}#sk-container-id-1 div.sk-parallel-item {display: flex;flex-direction: column;z-index: 1;position: relative;background-color: white;}#sk-container-id-1 div.sk-parallel-item:first-child::after {align-self: flex-end;width: 50%;}#sk-container-id-1 div.sk-parallel-item:last-child::after {align-self: flex-start;width: 50%;}#sk-container-id-1 div.sk-parallel-item:only-child::after {width: 0;}#sk-container-id-1 div.sk-dashed-wrapped {border: 1px dashed gray;margin: 0 0.4em 0.5em 0.4em;box-sizing: border-box;padding-bottom: 0.4em;background-color: white;}#sk-container-id-1 div.sk-label label {font-family: monospace;font-weight: bold;display: inline-block;line-height: 1.2em;}#sk-container-id-1 div.sk-label-container {text-align: center;}#sk-container-id-1 div.sk-container {/* jupyter's `normalize.less` sets `[hidden] { display: none; }` but bootstrap.min.css set `[hidden] { display: none !important; }` so we also need the `!important` here to be able to override the default hidden behavior on the sphinx rendered scikit-learn.org. See: https://github.com/scikit-learn/scikit-learn/issues/21755 */display: inline-block !important;position: relative;}#sk-container-id-1 div.sk-text-repr-fallback {display: none;}</style><div id=\"sk-container-id-1\" class=\"sk-top-container\"><div class=\"sk-text-repr-fallback\"><pre>LinearRegression()</pre><b>In a Jupyter environment, please rerun this cell to show the HTML representation or trust the notebook. <br />On GitHub, the HTML representation is unable to render, please try loading this page with nbviewer.org.</b></div><div class=\"sk-container\" hidden><div class=\"sk-item\"><div class=\"sk-estimator sk-toggleable\"><input class=\"sk-toggleable__control sk-hidden--visually\" id=\"sk-estimator-id-1\" type=\"checkbox\" checked><label for=\"sk-estimator-id-1\" class=\"sk-toggleable__label sk-toggleable__label-arrow\">LinearRegression</label><div class=\"sk-toggleable__content\"><pre>LinearRegression()</pre></div></div></div></div></div>"
            ]
          },
          "metadata": {},
          "execution_count": 2
        }
      ]
    },
    {
      "cell_type": "code",
      "source": [
        "LR.predict([[25]])"
      ],
      "metadata": {
        "colab": {
          "base_uri": "https://localhost:8080/"
        },
        "id": "cl1JjBISl_vF",
        "outputId": "4ca2bb6d-e5bf-4e74-86b4-282bc4a59e8c"
      },
      "execution_count": null,
      "outputs": [
        {
          "output_type": "execute_result",
          "data": {
            "text/plain": [
              "array([316.7012987])"
            ]
          },
          "metadata": {},
          "execution_count": 4
        }
      ]
    },
    {
      "cell_type": "code",
      "source": [
        "import numpy as np\n",
        "from sklearn.linear_model import LogisticRegression\n",
        "\n"
      ],
      "metadata": {
        "id": "N7Cm01B5xLUs"
      },
      "execution_count": null,
      "outputs": []
    },
    {
      "cell_type": "code",
      "source": [
        "# Distance and corresponding probability data\n",
        "distances = np.array([1,2,5,10,15,20, 21, 22, 23, 24, 25, 26, 27, 28, 29, 30,35,40,41,47,50]).reshape(-1, 1)\n",
        "probabilities = np.array([1,1,1,1,1,1,0.9, 0.85, 0.73, 0.67, 0.5, 0.47, 0.39, 0.31, 0.25, 0.15,0,0,0,0,0])"
      ],
      "metadata": {
        "id": "o7q5HIwuzFJ3"
      },
      "execution_count": null,
      "outputs": []
    },
    {
      "cell_type": "code",
      "source": [
        "#convert probabilities to binary labels\n",
        "threshold = 0.5\n",
        "binary_labels = (probabilities > threshold).astype(int)"
      ],
      "metadata": {
        "id": "cJIC9KjgzKpk"
      },
      "execution_count": null,
      "outputs": []
    },
    {
      "cell_type": "code",
      "source": [
        "#create and fit logistic regression model\n",
        "logr = LogisticRegression()\n",
        "logr.fit(distances,binary_labels)"
      ],
      "metadata": {
        "colab": {
          "base_uri": "https://localhost:8080/",
          "height": 74
        },
        "id": "mWQHYU6x0Nta",
        "outputId": "210ab26d-022e-4246-afc1-383f04f5bd5e"
      },
      "execution_count": null,
      "outputs": [
        {
          "output_type": "execute_result",
          "data": {
            "text/plain": [
              "LogisticRegression()"
            ],
            "text/html": [
              "<style>#sk-container-id-2 {color: black;background-color: white;}#sk-container-id-2 pre{padding: 0;}#sk-container-id-2 div.sk-toggleable {background-color: white;}#sk-container-id-2 label.sk-toggleable__label {cursor: pointer;display: block;width: 100%;margin-bottom: 0;padding: 0.3em;box-sizing: border-box;text-align: center;}#sk-container-id-2 label.sk-toggleable__label-arrow:before {content: \"▸\";float: left;margin-right: 0.25em;color: #696969;}#sk-container-id-2 label.sk-toggleable__label-arrow:hover:before {color: black;}#sk-container-id-2 div.sk-estimator:hover label.sk-toggleable__label-arrow:before {color: black;}#sk-container-id-2 div.sk-toggleable__content {max-height: 0;max-width: 0;overflow: hidden;text-align: left;background-color: #f0f8ff;}#sk-container-id-2 div.sk-toggleable__content pre {margin: 0.2em;color: black;border-radius: 0.25em;background-color: #f0f8ff;}#sk-container-id-2 input.sk-toggleable__control:checked~div.sk-toggleable__content {max-height: 200px;max-width: 100%;overflow: auto;}#sk-container-id-2 input.sk-toggleable__control:checked~label.sk-toggleable__label-arrow:before {content: \"▾\";}#sk-container-id-2 div.sk-estimator input.sk-toggleable__control:checked~label.sk-toggleable__label {background-color: #d4ebff;}#sk-container-id-2 div.sk-label input.sk-toggleable__control:checked~label.sk-toggleable__label {background-color: #d4ebff;}#sk-container-id-2 input.sk-hidden--visually {border: 0;clip: rect(1px 1px 1px 1px);clip: rect(1px, 1px, 1px, 1px);height: 1px;margin: -1px;overflow: hidden;padding: 0;position: absolute;width: 1px;}#sk-container-id-2 div.sk-estimator {font-family: monospace;background-color: #f0f8ff;border: 1px dotted black;border-radius: 0.25em;box-sizing: border-box;margin-bottom: 0.5em;}#sk-container-id-2 div.sk-estimator:hover {background-color: #d4ebff;}#sk-container-id-2 div.sk-parallel-item::after {content: \"\";width: 100%;border-bottom: 1px solid gray;flex-grow: 1;}#sk-container-id-2 div.sk-label:hover label.sk-toggleable__label {background-color: #d4ebff;}#sk-container-id-2 div.sk-serial::before {content: \"\";position: absolute;border-left: 1px solid gray;box-sizing: border-box;top: 0;bottom: 0;left: 50%;z-index: 0;}#sk-container-id-2 div.sk-serial {display: flex;flex-direction: column;align-items: center;background-color: white;padding-right: 0.2em;padding-left: 0.2em;position: relative;}#sk-container-id-2 div.sk-item {position: relative;z-index: 1;}#sk-container-id-2 div.sk-parallel {display: flex;align-items: stretch;justify-content: center;background-color: white;position: relative;}#sk-container-id-2 div.sk-item::before, #sk-container-id-2 div.sk-parallel-item::before {content: \"\";position: absolute;border-left: 1px solid gray;box-sizing: border-box;top: 0;bottom: 0;left: 50%;z-index: -1;}#sk-container-id-2 div.sk-parallel-item {display: flex;flex-direction: column;z-index: 1;position: relative;background-color: white;}#sk-container-id-2 div.sk-parallel-item:first-child::after {align-self: flex-end;width: 50%;}#sk-container-id-2 div.sk-parallel-item:last-child::after {align-self: flex-start;width: 50%;}#sk-container-id-2 div.sk-parallel-item:only-child::after {width: 0;}#sk-container-id-2 div.sk-dashed-wrapped {border: 1px dashed gray;margin: 0 0.4em 0.5em 0.4em;box-sizing: border-box;padding-bottom: 0.4em;background-color: white;}#sk-container-id-2 div.sk-label label {font-family: monospace;font-weight: bold;display: inline-block;line-height: 1.2em;}#sk-container-id-2 div.sk-label-container {text-align: center;}#sk-container-id-2 div.sk-container {/* jupyter's `normalize.less` sets `[hidden] { display: none; }` but bootstrap.min.css set `[hidden] { display: none !important; }` so we also need the `!important` here to be able to override the default hidden behavior on the sphinx rendered scikit-learn.org. See: https://github.com/scikit-learn/scikit-learn/issues/21755 */display: inline-block !important;position: relative;}#sk-container-id-2 div.sk-text-repr-fallback {display: none;}</style><div id=\"sk-container-id-2\" class=\"sk-top-container\"><div class=\"sk-text-repr-fallback\"><pre>LogisticRegression()</pre><b>In a Jupyter environment, please rerun this cell to show the HTML representation or trust the notebook. <br />On GitHub, the HTML representation is unable to render, please try loading this page with nbviewer.org.</b></div><div class=\"sk-container\" hidden><div class=\"sk-item\"><div class=\"sk-estimator sk-toggleable\"><input class=\"sk-toggleable__control sk-hidden--visually\" id=\"sk-estimator-id-2\" type=\"checkbox\" checked><label for=\"sk-estimator-id-2\" class=\"sk-toggleable__label sk-toggleable__label-arrow\">LogisticRegression</label><div class=\"sk-toggleable__content\"><pre>LogisticRegression()</pre></div></div></div></div></div>"
            ]
          },
          "metadata": {},
          "execution_count": 14
        }
      ]
    },
    {
      "cell_type": "code",
      "source": [
        "p = logr.predict([[25]])   #distance\n",
        "print(p)"
      ],
      "metadata": {
        "colab": {
          "base_uri": "https://localhost:8080/"
        },
        "id": "V56nmB8h07iL",
        "outputId": "ac49f8fe-0f3c-4754-f4e8-8cad4834176b"
      },
      "execution_count": null,
      "outputs": [
        {
          "output_type": "stream",
          "name": "stdout",
          "text": [
            "[0]\n"
          ]
        }
      ]
    },
    {
      "cell_type": "code",
      "source": [
        "if p==[1]:\n",
        "  print(\"goal\")\n",
        "else:\n",
        "  print(\"No goal\")"
      ],
      "metadata": {
        "colab": {
          "base_uri": "https://localhost:8080/"
        },
        "id": "trqU-nNb1qtK",
        "outputId": "1390070c-0fe1-4c4d-f39c-f12de8e2fc6a"
      },
      "execution_count": null,
      "outputs": [
        {
          "output_type": "stream",
          "name": "stdout",
          "text": [
            "No goal\n"
          ]
        }
      ]
    },
    {
      "cell_type": "code",
      "source": [
        "#predict 100 distances between 1 and 50\n",
        "#Generate distance for prediction\n",
        "dist = np.linspace(1,50,100).reshape(-1,1)\n",
        "print (dist)  # distances\n",
        "\n",
        "#make prediction using model\n",
        "prob = logr.predict_proba(dist)   #preditions\n",
        "print(prob)"
      ],
      "metadata": {
        "colab": {
          "base_uri": "https://localhost:8080/"
        },
        "id": "B5-FBp4v4jQ7",
        "outputId": "a00f42dd-ac96-49c3-8ffa-cd9c5e2c130b"
      },
      "execution_count": null,
      "outputs": [
        {
          "output_type": "stream",
          "name": "stdout",
          "text": [
            "[[ 1.        ]\n",
            " [ 1.49494949]\n",
            " [ 1.98989899]\n",
            " [ 2.48484848]\n",
            " [ 2.97979798]\n",
            " [ 3.47474747]\n",
            " [ 3.96969697]\n",
            " [ 4.46464646]\n",
            " [ 4.95959596]\n",
            " [ 5.45454545]\n",
            " [ 5.94949495]\n",
            " [ 6.44444444]\n",
            " [ 6.93939394]\n",
            " [ 7.43434343]\n",
            " [ 7.92929293]\n",
            " [ 8.42424242]\n",
            " [ 8.91919192]\n",
            " [ 9.41414141]\n",
            " [ 9.90909091]\n",
            " [10.4040404 ]\n",
            " [10.8989899 ]\n",
            " [11.39393939]\n",
            " [11.88888889]\n",
            " [12.38383838]\n",
            " [12.87878788]\n",
            " [13.37373737]\n",
            " [13.86868687]\n",
            " [14.36363636]\n",
            " [14.85858586]\n",
            " [15.35353535]\n",
            " [15.84848485]\n",
            " [16.34343434]\n",
            " [16.83838384]\n",
            " [17.33333333]\n",
            " [17.82828283]\n",
            " [18.32323232]\n",
            " [18.81818182]\n",
            " [19.31313131]\n",
            " [19.80808081]\n",
            " [20.3030303 ]\n",
            " [20.7979798 ]\n",
            " [21.29292929]\n",
            " [21.78787879]\n",
            " [22.28282828]\n",
            " [22.77777778]\n",
            " [23.27272727]\n",
            " [23.76767677]\n",
            " [24.26262626]\n",
            " [24.75757576]\n",
            " [25.25252525]\n",
            " [25.74747475]\n",
            " [26.24242424]\n",
            " [26.73737374]\n",
            " [27.23232323]\n",
            " [27.72727273]\n",
            " [28.22222222]\n",
            " [28.71717172]\n",
            " [29.21212121]\n",
            " [29.70707071]\n",
            " [30.2020202 ]\n",
            " [30.6969697 ]\n",
            " [31.19191919]\n",
            " [31.68686869]\n",
            " [32.18181818]\n",
            " [32.67676768]\n",
            " [33.17171717]\n",
            " [33.66666667]\n",
            " [34.16161616]\n",
            " [34.65656566]\n",
            " [35.15151515]\n",
            " [35.64646465]\n",
            " [36.14141414]\n",
            " [36.63636364]\n",
            " [37.13131313]\n",
            " [37.62626263]\n",
            " [38.12121212]\n",
            " [38.61616162]\n",
            " [39.11111111]\n",
            " [39.60606061]\n",
            " [40.1010101 ]\n",
            " [40.5959596 ]\n",
            " [41.09090909]\n",
            " [41.58585859]\n",
            " [42.08080808]\n",
            " [42.57575758]\n",
            " [43.07070707]\n",
            " [43.56565657]\n",
            " [44.06060606]\n",
            " [44.55555556]\n",
            " [45.05050505]\n",
            " [45.54545455]\n",
            " [46.04040404]\n",
            " [46.53535354]\n",
            " [47.03030303]\n",
            " [47.52525253]\n",
            " [48.02020202]\n",
            " [48.51515152]\n",
            " [49.01010101]\n",
            " [49.50505051]\n",
            " [50.        ]]\n",
            "[[7.36521955e-13 1.00000000e+00]\n",
            " [1.32649447e-12 1.00000000e+00]\n",
            " [2.38919995e-12 1.00000000e+00]\n",
            " [4.30344649e-12 1.00000000e+00]\n",
            " [7.75135511e-12 1.00000000e+00]\n",
            " [1.39614986e-11 1.00000000e+00]\n",
            " [2.51469956e-11 1.00000000e+00]\n",
            " [4.52937687e-11 1.00000000e+00]\n",
            " [8.15814083e-11 1.00000000e+00]\n",
            " [1.46941792e-10 1.00000000e+00]\n",
            " [2.64666289e-10 1.00000000e+00]\n",
            " [4.76707784e-10 1.00000000e+00]\n",
            " [8.58629612e-10 9.99999999e-01]\n",
            " [1.54653357e-09 9.99999998e-01]\n",
            " [2.78556245e-09 9.99999997e-01]\n",
            " [5.01725839e-09 9.99999995e-01]\n",
            " [9.03691089e-09 9.99999991e-01]\n",
            " [1.62769695e-08 9.99999984e-01]\n",
            " [2.93175104e-08 9.99999971e-01]\n",
            " [5.28056784e-08 9.99999947e-01]\n",
            " [9.51117461e-08 9.99999905e-01]\n",
            " [1.71311954e-07 9.99999829e-01]\n",
            " [3.08561086e-07 9.99999691e-01]\n",
            " [5.55769353e-07 9.99999444e-01]\n",
            " [1.00103197e-06 9.99998999e-01]\n",
            " [1.80302250e-06 9.99998197e-01]\n",
            " [3.24753669e-06 9.99996752e-01]\n",
            " [5.84933484e-06 9.99994151e-01]\n",
            " [1.05355690e-05 9.99989464e-01]\n",
            " [1.89761400e-05 9.99981024e-01]\n",
            " [3.41786433e-05 9.99965821e-01]\n",
            " [6.15596971e-05 9.99938440e-01]\n",
            " [1.10873716e-04 9.99889126e-01]\n",
            " [1.99684141e-04 9.99800316e-01]\n",
            " [3.59606595e-04 9.99640393e-01]\n",
            " [6.47524328e-04 9.99352476e-01]\n",
            " [1.16569355e-03 9.98834306e-01]\n",
            " [2.09764764e-03 9.97902352e-01]\n",
            " [3.77187106e-03 9.96228129e-01]\n",
            " [6.77329472e-03 9.93226705e-01]\n",
            " [1.21339773e-02 9.87866023e-01]\n",
            " [2.16448809e-02 9.78355119e-01]\n",
            " [3.83214687e-02 9.61678531e-01]\n",
            " [6.69672780e-02 9.33032722e-01]\n",
            " [1.14477216e-01 8.85522784e-01]\n",
            " [1.88870123e-01 8.11129877e-01]\n",
            " [2.95475997e-01 7.04524003e-01]\n",
            " [4.30330951e-01 5.69669049e-01]\n",
            " [5.76380595e-01 4.23619405e-01]\n",
            " [7.10202259e-01 2.89797741e-01]\n",
            " [8.15296551e-01 1.84703449e-01]\n",
            " [8.88274330e-01 1.11725670e-01]\n",
            " [9.34726505e-01 6.52734947e-02]\n",
            " [9.62676767e-01 3.73232326e-02]\n",
            " [9.78928465e-01 2.10715348e-02]\n",
            " [9.88190478e-01 1.18095223e-02]\n",
            " [9.93408775e-01 6.59122462e-03]\n",
            " [9.96329817e-01 3.67018284e-03]\n",
            " [9.97958997e-01 2.04100338e-03]\n",
            " [9.98865813e-01 1.13418691e-03]\n",
            " [9.99369986e-01 6.30014050e-04]\n",
            " [9.99650121e-01 3.49879429e-04]\n",
            " [9.99805718e-01 1.94281951e-04]\n",
            " [9.99892126e-01 1.07873915e-04]\n",
            " [9.99940106e-01 5.98940572e-05]\n",
            " [9.99966746e-01 3.32538365e-05]\n",
            " [9.99981537e-01 1.84626754e-05]\n",
            " [9.99989750e-01 1.02504906e-05]\n",
            " [9.99994309e-01 5.69105898e-06]\n",
            " [9.99996840e-01 3.15966209e-06]\n",
            " [9.99998246e-01 1.75423472e-06]\n",
            " [9.99999026e-01 9.73945141e-07]\n",
            " [9.99999459e-01 5.40730836e-07]\n",
            " [9.99999700e-01 3.00211755e-07]\n",
            " [9.99999833e-01 1.66676436e-07]\n",
            " [9.99999907e-01 9.25381239e-08]\n",
            " [9.99999949e-01 5.13768131e-08]\n",
            " [9.99999971e-01 2.85242100e-08]\n",
            " [9.99999984e-01 1.58365320e-08]\n",
            " [9.99999991e-01 8.79238183e-09]\n",
            " [9.99999995e-01 4.88149664e-09]\n",
            " [9.99999997e-01 2.71018819e-09]\n",
            " [9.99999998e-01 1.50468608e-09]\n",
            " [9.99999999e-01 8.35395932e-10]\n",
            " [1.00000000e+00 4.63808613e-10]\n",
            " [1.00000000e+00 2.57504761e-10]\n",
            " [1.00000000e+00 1.42965654e-10]\n",
            " [1.00000000e+00 7.93739822e-11]\n",
            " [1.00000000e+00 4.40681301e-11]\n",
            " [1.00000000e+00 2.44664566e-11]\n",
            " [1.00000000e+00 1.35836827e-11]\n",
            " [1.00000000e+00 7.54160848e-12]\n",
            " [1.00000000e+00 4.18707206e-12]\n",
            " [1.00000000e+00 2.32464633e-12]\n",
            " [1.00000000e+00 1.29063471e-12]\n",
            " [1.00000000e+00 7.16555436e-13]\n",
            " [1.00000000e+00 3.97828826e-13]\n",
            " [1.00000000e+00 2.20873036e-13]\n",
            " [1.00000000e+00 1.22627861e-13]\n",
            " [1.00000000e+00 6.80825177e-14]]\n"
          ]
        }
      ]
    },
    {
      "cell_type": "code",
      "source": [
        "#plotting actual data - train\n",
        "import matplotlib.pyplot as plt\n",
        "plt.scatter(distances,binary_labels,color=\"black\",label=\"Data\")"
      ],
      "metadata": {
        "colab": {
          "base_uri": "https://localhost:8080/",
          "height": 447
        },
        "id": "0-tyQ3QP50uq",
        "outputId": "1910d078-c0e1-4b7d-c791-2a286426a128"
      },
      "execution_count": null,
      "outputs": [
        {
          "output_type": "execute_result",
          "data": {
            "text/plain": [
              "<matplotlib.collections.PathCollection at 0x78e5ba2886d0>"
            ]
          },
          "metadata": {},
          "execution_count": 24
        },
        {
          "output_type": "display_data",
          "data": {
            "text/plain": [
              "<Figure size 640x480 with 1 Axes>"
            ],
            "image/png": "[encoded data removed]"
          },
          "metadata": {}
        }
      ]
    },
    {
      "cell_type": "code",
      "source": [
        "#plotting test data with prediction  - valid/test\n",
        "plt.plot(dist,prob,color=\"blue\",label=\"Logistic Regression\")\n",
        "plt.title('Distance vs Probability of scoring a goal')\n",
        "plt.xlabel('Distance')\n",
        "plt.ylabel('Prabability')\n",
        "plt.legend()\n",
        "plt.grid(True)\n",
        "plt.show()"
      ],
      "metadata": {
        "colab": {
          "base_uri": "https://localhost:8080/",
          "height": 472
        },
        "id": "SujP2Jqx7Drr",
        "outputId": "e369c3b4-fbd2-4f74-f23a-faf7e50c79ff"
      },
      "execution_count": null,
      "outputs": [
        {
          "output_type": "display_data",
          "data": {
            "text/plain": [
              "<Figure size 640x480 with 1 Axes>"
            ],
            "image/png": "[encoded data removed]"
          },
          "metadata": {}
        }
      ]
    },
    {
      "cell_type": "code",
      "source": [
        "import matplotlib.pyplot as plt\n",
        "plt.scatter(distances,binary_labels,color=\"black\",label=\"Data\")\n",
        "plt.plot(dist,prob,color=\"blue\",label=\"Logistic Regression\")\n",
        "plt.title('Distance vs Probability of scoring a goal')\n",
        "plt.xlabel('Distance')\n",
        "plt.ylabel('Prabability')\n",
        "plt.legend()\n",
        "plt.grid(True)\n",
        "plt.show()"
      ],
      "metadata": {
        "colab": {
          "base_uri": "https://localhost:8080/",
          "height": 472
        },
        "id": "XSClq6th8ynJ",
        "outputId": "96f04cc0-c1e6-43c4-808d-9f998e30eeb4"
      },
      "execution_count": null,
      "outputs": [
        {
          "output_type": "display_data",
          "data": {
            "text/plain": [
              "<Figure size 640x480 with 1 Axes>"
            ],
            "image/png": "[encoded data removed]"
          },
          "metadata": {}
        }
      ]
    },
    {
      "cell_type": "code",
      "source": [
        "import pandas as pd"
      ],
      "metadata": {
        "id": "qGf25tCDZSrK"
      },
      "execution_count": null,
      "outputs": []
    },
    {
      "cell_type": "code",
      "source": [
        "dfc3= pd.read_csv(\"/content/demodt.txt\")"
      ],
      "metadata": {
        "id": "sd64kStIYMtF"
      },
      "execution_count": null,
      "outputs": []
    },
    {
      "cell_type": "code",
      "source": [
        "print(dfc3)"
      ],
      "metadata": {
        "colab": {
          "base_uri": "https://localhost:8080/"
        },
        "id": "AaDMBTUGZf_A",
        "outputId": "a01e0a48-7492-4d76-da7a-64e4d3ed6aec"
      },
      "execution_count": null,
      "outputs": [
        {
          "output_type": "stream",
          "name": "stdout",
          "text": [
            "   State  Literacy  Cleanliness  Crime_Rate  Good\n",
            "0      A        92           90          54     0\n",
            "1      B        56           67          50     1\n",
            "2      C        78           85          62     0\n",
            "3      D        63           72          48     1\n",
            "4      E        85           79          55     0\n",
            "5      F        71           68          58     0\n",
            "6      G        80           83          51     0\n",
            "7      H        67           74          47     1\n",
            "8      I        89           88          53     0\n",
            "9      J        58           65          49     1\n",
            "10     K        82           81          60     0\n",
            "11     L        75           78          57     0\n",
            "12     M        69           70          46     1\n",
            "13     N        87           86          52     0\n",
            "14     O        61           63          45     1\n",
            "15     P        93           91          56     0\n",
            "16     Q        55           66          61     0\n",
            "17     R        76           77          59     0\n",
            "18     S        84           82          44     1\n",
            "19     T        70           69          50     1\n",
            "20     U        94           92          57     0\n",
            "21     V        59           64          52     0\n",
            "22     W        83           80          43     1\n",
            "23     X        74           76          63     0\n",
            "24     Y        68           73          41     1\n",
            "25     Z        88           84          47     1\n"
          ]
        }
      ]
    },
    {
      "cell_type": "code",
      "source": [
        "import sklearn.tree"
      ],
      "metadata": {
        "id": "4bo_aRtGaWM5"
      },
      "execution_count": null,
      "outputs": []
    },
    {
      "cell_type": "code",
      "source": [
        "from sklearn.tree import DecisionTreeClassifier"
      ],
      "metadata": {
        "id": "cv2ePU1wawiR"
      },
      "execution_count": null,
      "outputs": []
    },
    {
      "cell_type": "code",
      "source": [
        "dt=DecisionTreeClassifier()"
      ],
      "metadata": {
        "id": "lrigMFkLbBEF"
      },
      "execution_count": null,
      "outputs": []
    },
    {
      "cell_type": "code",
      "source": [
        "feature_list=['Literacy','Cleanliness','Crime_Rate']\n",
        "target=dfc3.Good\n",
        "f=dfc3[feature_list]\n",
        "print(f)\n"
      ],
      "metadata": {
        "colab": {
          "base_uri": "https://localhost:8080/"
        },
        "id": "9wf1VaY_bx5O",
        "outputId": "5f1ba082-8137-410f-e229-80e2bd58a237"
      },
      "execution_count": null,
      "outputs": [
        {
          "output_type": "stream",
          "name": "stdout",
          "text": [
            "    Literacy  Cleanliness  Crime_Rate\n",
            "0         92           90          54\n",
            "1         56           67          50\n",
            "2         78           85          62\n",
            "3         63           72          48\n",
            "4         85           79          55\n",
            "5         71           68          58\n",
            "6         80           83          51\n",
            "7         67           74          47\n",
            "8         89           88          53\n",
            "9         58           65          49\n",
            "10        82           81          60\n",
            "11        75           78          57\n",
            "12        69           70          46\n",
            "13        87           86          52\n",
            "14        61           63          45\n",
            "15        93           91          56\n",
            "16        55           66          61\n",
            "17        76           77          59\n",
            "18        84           82          44\n",
            "19        70           69          50\n",
            "20        94           92          57\n",
            "21        59           64          52\n",
            "22        83           80          43\n",
            "23        74           76          63\n",
            "24        68           73          41\n",
            "25        88           84          47\n"
          ]
        }
      ]
    },
    {
      "cell_type": "code",
      "source": [
        "print(target)"
      ],
      "metadata": {
        "colab": {
          "base_uri": "https://localhost:8080/"
        },
        "id": "UOmG4HreeVuU",
        "outputId": "14cdf10b-61df-4d82-9247-f1b3fdba01b4"
      },
      "execution_count": null,
      "outputs": [
        {
          "output_type": "stream",
          "name": "stdout",
          "text": [
            "0     0\n",
            "1     1\n",
            "2     0\n",
            "3     1\n",
            "4     0\n",
            "5     0\n",
            "6     0\n",
            "7     1\n",
            "8     0\n",
            "9     1\n",
            "10    0\n",
            "11    0\n",
            "12    1\n",
            "13    0\n",
            "14    1\n",
            "15    0\n",
            "16    0\n",
            "17    0\n",
            "18    1\n",
            "19    1\n",
            "20    0\n",
            "21    0\n",
            "22    1\n",
            "23    0\n",
            "24    1\n",
            "25    1\n",
            "Name: Good, dtype: int64\n"
          ]
        }
      ]
    },
    {
      "cell_type": "code",
      "source": [
        "dt.fit(f,target)"
      ],
      "metadata": {
        "colab": {
          "base_uri": "https://localhost:8080/",
          "height": 74
        },
        "id": "BSyQ-g9Teh_K",
        "outputId": "73f8c921-f91a-4447-bd55-73ba8b067851"
      },
      "execution_count": null,
      "outputs": [
        {
          "output_type": "execute_result",
          "data": {
            "text/plain": [
              "DecisionTreeClassifier()"
            ],
            "text/html": [
              "<style>#sk-container-id-1 {color: black;background-color: white;}#sk-container-id-1 pre{padding: 0;}#sk-container-id-1 div.sk-toggleable {background-color: white;}#sk-container-id-1 label.sk-toggleable__label {cursor: pointer;display: block;width: 100%;margin-bottom: 0;padding: 0.3em;box-sizing: border-box;text-align: center;}#sk-container-id-1 label.sk-toggleable__label-arrow:before {content: \"▸\";float: left;margin-right: 0.25em;color: #696969;}#sk-container-id-1 label.sk-toggleable__label-arrow:hover:before {color: black;}#sk-container-id-1 div.sk-estimator:hover label.sk-toggleable__label-arrow:before {color: black;}#sk-container-id-1 div.sk-toggleable__content {max-height: 0;max-width: 0;overflow: hidden;text-align: left;background-color: #f0f8ff;}#sk-container-id-1 div.sk-toggleable__content pre {margin: 0.2em;color: black;border-radius: 0.25em;background-color: #f0f8ff;}#sk-container-id-1 input.sk-toggleable__control:checked~div.sk-toggleable__content {max-height: 200px;max-width: 100%;overflow: auto;}#sk-container-id-1 input.sk-toggleable__control:checked~label.sk-toggleable__label-arrow:before {content: \"▾\";}#sk-container-id-1 div.sk-estimator input.sk-toggleable__control:checked~label.sk-toggleable__label {background-color: #d4ebff;}#sk-container-id-1 div.sk-label input.sk-toggleable__control:checked~label.sk-toggleable__label {background-color: #d4ebff;}#sk-container-id-1 input.sk-hidden--visually {border: 0;clip: rect(1px 1px 1px 1px);clip: rect(1px, 1px, 1px, 1px);height: 1px;margin: -1px;overflow: hidden;padding: 0;position: absolute;width: 1px;}#sk-container-id-1 div.sk-estimator {font-family: monospace;background-color: #f0f8ff;border: 1px dotted black;border-radius: 0.25em;box-sizing: border-box;margin-bottom: 0.5em;}#sk-container-id-1 div.sk-estimator:hover {background-color: #d4ebff;}#sk-container-id-1 div.sk-parallel-item::after {content: \"\";width: 100%;border-bottom: 1px solid gray;flex-grow: 1;}#sk-container-id-1 div.sk-label:hover label.sk-toggleable__label {background-color: #d4ebff;}#sk-container-id-1 div.sk-serial::before {content: \"\";position: absolute;border-left: 1px solid gray;box-sizing: border-box;top: 0;bottom: 0;left: 50%;z-index: 0;}#sk-container-id-1 div.sk-serial {display: flex;flex-direction: column;align-items: center;background-color: white;padding-right: 0.2em;padding-left: 0.2em;position: relative;}#sk-container-id-1 div.sk-item {position: relative;z-index: 1;}#sk-container-id-1 div.sk-parallel {display: flex;align-items: stretch;justify-content: center;background-color: white;position: relative;}#sk-container-id-1 div.sk-item::before, #sk-container-id-1 div.sk-parallel-item::before {content: \"\";position: absolute;border-left: 1px solid gray;box-sizing: border-box;top: 0;bottom: 0;left: 50%;z-index: -1;}#sk-container-id-1 div.sk-parallel-item {display: flex;flex-direction: column;z-index: 1;position: relative;background-color: white;}#sk-container-id-1 div.sk-parallel-item:first-child::after {align-self: flex-end;width: 50%;}#sk-container-id-1 div.sk-parallel-item:last-child::after {align-self: flex-start;width: 50%;}#sk-container-id-1 div.sk-parallel-item:only-child::after {width: 0;}#sk-container-id-1 div.sk-dashed-wrapped {border: 1px dashed gray;margin: 0 0.4em 0.5em 0.4em;box-sizing: border-box;padding-bottom: 0.4em;background-color: white;}#sk-container-id-1 div.sk-label label {font-family: monospace;font-weight: bold;display: inline-block;line-height: 1.2em;}#sk-container-id-1 div.sk-label-container {text-align: center;}#sk-container-id-1 div.sk-container {/* jupyter's `normalize.less` sets `[hidden] { display: none; }` but bootstrap.min.css set `[hidden] { display: none !important; }` so we also need the `!important` here to be able to override the default hidden behavior on the sphinx rendered scikit-learn.org. See: https://github.com/scikit-learn/scikit-learn/issues/21755 */display: inline-block !important;position: relative;}#sk-container-id-1 div.sk-text-repr-fallback {display: none;}</style><div id=\"sk-container-id-1\" class=\"sk-top-container\"><div class=\"sk-text-repr-fallback\"><pre>DecisionTreeClassifier()</pre><b>In a Jupyter environment, please rerun this cell to show the HTML representation or trust the notebook. <br />On GitHub, the HTML representation is unable to render, please try loading this page with nbviewer.org.</b></div><div class=\"sk-container\" hidden><div class=\"sk-item\"><div class=\"sk-estimator sk-toggleable\"><input class=\"sk-toggleable__control sk-hidden--visually\" id=\"sk-estimator-id-1\" type=\"checkbox\" checked><label for=\"sk-estimator-id-1\" class=\"sk-toggleable__label sk-toggleable__label-arrow\">DecisionTreeClassifier</label><div class=\"sk-toggleable__content\"><pre>DecisionTreeClassifier()</pre></div></div></div></div></div>"
            ]
          },
          "metadata": {},
          "execution_count": 47
        }
      ]
    },
    {
      "cell_type": "code",
      "source": [
        "a=dt.predict([[90,90,63]])\n",
        "print(a)\n",
        "if a==0:\n",
        "  print(\"Good\")\n",
        "else:\n",
        "  print(\"Bad\")"
      ],
      "metadata": {
        "colab": {
          "base_uri": "https://localhost:8080/"
        },
        "id": "orhP_vHMfel8",
        "outputId": "82624e40-5ac3-40d7-ffba-f144e822db33"
      },
      "execution_count": null,
      "outputs": [
        {
          "output_type": "stream",
          "name": "stdout",
          "text": [
            "[0]\n",
            "Good\n"
          ]
        },
        {
          "output_type": "stream",
          "name": "stderr",
          "text": [
            "/usr/local/lib/python3.10/dist-packages/sklearn/base.py:439: UserWarning: X does not have valid feature names, but DecisionTreeClassifier was fitted with feature names\n",
            "  warnings.warn(\n"
          ]
        }
      ]
    },
    {
      "cell_type": "code",
      "source": [
        "i=int(input(\"Enter the literacy value : \"))\n",
        "j=int(input(\"Enter the cleanliness value: \"))\n",
        "k=int(input(\"Enter the crime rate value: \"))\n",
        "p=dt.predict([[i,j,k]])\n",
        "print(p)\n",
        "if p == 0:\n",
        "  print(\"bad\")\n",
        "else:\n",
        "  print(\"good\")\n",
        "\n"
      ],
      "metadata": {
        "colab": {
          "base_uri": "https://localhost:8080/"
        },
        "id": "WRP2XQsDgYqN",
        "outputId": "31e38752-25ab-4ff5-d18f-af9ea20b2f84"
      },
      "execution_count": null,
      "outputs": [
        {
          "output_type": "stream",
          "name": "stdout",
          "text": [
            "Enter the literacy value : 90\n",
            "Enter the cleanliness value: 90\n",
            "Enter the crime rate value: 63\n",
            "[0]\n",
            "bad\n"
          ]
        },
        {
          "output_type": "stream",
          "name": "stderr",
          "text": [
            "/usr/local/lib/python3.10/dist-packages/sklearn/base.py:439: UserWarning: X does not have valid feature names, but DecisionTreeClassifier was fitted with feature names\n",
            "  warnings.warn(\n"
          ]
        }
      ]
    },
    {
      "cell_type": "code",
      "source": [],
      "metadata": {
        "id": "d6t4tkUbiKVp"
      },
      "execution_count": null,
      "outputs": []
    }
  ]
}